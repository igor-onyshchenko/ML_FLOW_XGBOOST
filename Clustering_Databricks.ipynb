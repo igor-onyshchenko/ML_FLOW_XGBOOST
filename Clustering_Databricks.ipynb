{
 "cells": [
  {
   "cell_type": "code",
   "execution_count": 0,
   "metadata": {
    "application/vnd.databricks.v1+cell": {
     "inputWidgets": {},
     "nuid": "b1a88fb6-75c2-4f1f-99ec-64af8236a83f",
     "showTitle": false,
     "title": ""
    }
   },
   "outputs": [
    {
     "data": {
      "text/html": [
       "<style scoped>\n",
       "  .ansiout {\n",
       "    display: block;\n",
       "    unicode-bidi: embed;\n",
       "    white-space: pre-wrap;\n",
       "    word-wrap: break-word;\n",
       "    word-break: break-all;\n",
       "    font-family: \"Source Code Pro\", \"Menlo\", monospace;;\n",
       "    font-size: 13px;\n",
       "    color: #555;\n",
       "    margin-left: 4px;\n",
       "    line-height: 19px;\n",
       "  }\n",
       "</style>\n",
       "<div class=\"ansiout\"></div>"
      ]
     },
     "metadata": {
      "application/vnd.databricks.v1+output": {
       "addedWidgets": {},
       "arguments": {},
       "data": "<div class=\"ansiout\"></div>",
       "datasetInfos": [],
       "metadata": {},
       "removedWidgets": [],
       "type": "html"
      }
     },
     "output_type": "display_data"
    }
   ],
   "source": [
    "import numpy as np\n",
    "import pandas as pd\n",
    "import matplotlib.pyplot as plt\n",
    "import seaborn as sns\n",
    "\n",
    "from sklearn import metrics\n"
   ]
  },
  {
   "cell_type": "code",
   "execution_count": 0,
   "metadata": {
    "application/vnd.databricks.v1+cell": {
     "inputWidgets": {},
     "nuid": "700f4332-cfbd-4f02-8e24-3aaf5f762ff1",
     "showTitle": false,
     "title": ""
    }
   },
   "outputs": [
    {
     "data": {
      "text/html": [
       "<style scoped>\n",
       "  .ansiout {\n",
       "    display: block;\n",
       "    unicode-bidi: embed;\n",
       "    white-space: pre-wrap;\n",
       "    word-wrap: break-word;\n",
       "    word-break: break-all;\n",
       "    font-family: \"Source Code Pro\", \"Menlo\", monospace;;\n",
       "    font-size: 13px;\n",
       "    color: #555;\n",
       "    margin-left: 4px;\n",
       "    line-height: 19px;\n",
       "  }\n",
       "</style>\n",
       "<div class=\"ansiout\">Out[2]: &#39;1.20.3&#39;</div>"
      ]
     },
     "metadata": {
      "application/vnd.databricks.v1+output": {
       "addedWidgets": {},
       "arguments": {},
       "data": "<div class=\"ansiout\">Out[2]: &#39;1.20.3&#39;</div>",
       "datasetInfos": [],
       "metadata": {},
       "removedWidgets": [],
       "type": "html"
      }
     },
     "output_type": "display_data"
    }
   ],
   "source": [
    "np.version.version\n"
   ]
  },
  {
   "cell_type": "code",
   "execution_count": 0,
   "metadata": {
    "application/vnd.databricks.v1+cell": {
     "inputWidgets": {},
     "nuid": "7ec61627-ab3e-4766-8fe8-9f3f28e79261",
     "showTitle": false,
     "title": ""
    }
   },
   "outputs": [
    {
     "data": {
      "text/html": [
       "<style scoped>\n",
       "  .ansiout {\n",
       "    display: block;\n",
       "    unicode-bidi: embed;\n",
       "    white-space: pre-wrap;\n",
       "    word-wrap: break-word;\n",
       "    word-break: break-all;\n",
       "    font-family: \"Source Code Pro\", \"Menlo\", monospace;;\n",
       "    font-size: 13px;\n",
       "    color: #555;\n",
       "    margin-left: 4px;\n",
       "    line-height: 19px;\n",
       "  }\n",
       "</style>\n",
       "<div class=\"ansiout\">Out[3]: </div>"
      ]
     },
     "metadata": {
      "application/vnd.databricks.v1+output": {
       "addedWidgets": {},
       "arguments": {},
       "data": "<div class=\"ansiout\">Out[3]: </div>",
       "datasetInfos": [],
       "metadata": {},
       "removedWidgets": [],
       "type": "html"
      }
     },
     "output_type": "display_data"
    },
    {
     "data": {
      "text/html": [
       "<div>\n",
       "<style scoped>\n",
       "    .dataframe tbody tr th:only-of-type {\n",
       "        vertical-align: middle;\n",
       "    }\n",
       "\n",
       "    .dataframe tbody tr th {\n",
       "        vertical-align: top;\n",
       "    }\n",
       "\n",
       "    .dataframe thead th {\n",
       "        text-align: right;\n",
       "    }\n",
       "</style>\n",
       "<table border=\"1\" class=\"dataframe\">\n",
       "  <thead>\n",
       "    <tr style=\"text-align: right;\">\n",
       "      <th></th>\n",
       "      <th>DOT_NUMBER</th>\n",
       "      <th>POLICYID</th>\n",
       "      <th>POLICY_EFF_DT</th>\n",
       "      <th>VEHICLE_NO</th>\n",
       "      <th>POLICY_EXP_DT</th>\n",
       "      <th>POLICYSTATUS</th>\n",
       "      <th>POLICYISSUETYPE</th>\n",
       "      <th>COMPANY</th>\n",
       "      <th>POLICYSTATE</th>\n",
       "      <th>STATE_ADMITTED</th>\n",
       "      <th>NEW_VENTURE</th>\n",
       "      <th>PKGCOMBO</th>\n",
       "      <th>YRSINBUSCT</th>\n",
       "      <th>YRSOFINSCT</th>\n",
       "      <th>POLICY_SEGMENT</th>\n",
       "      <th>OPERATION_EXPOSURE_POLICY</th>\n",
       "      <th>ZONE_GRPCD_POLICY</th>\n",
       "      <th>SCHEDULED_FLEET</th>\n",
       "      <th>VEHICLE_SEGMENT</th>\n",
       "      <th>VEHICLE_TERRITORY</th>\n",
       "      <th>VEHICLE_STATE</th>\n",
       "      <th>MODEL_YEAR</th>\n",
       "      <th>EQUIPMENT_AGE</th>\n",
       "      <th>VIN</th>\n",
       "      <th>RADIUS_GROUP</th>\n",
       "      <th>CLASS_CD</th>\n",
       "      <th>ZONE_GRPCD_VEHICLE</th>\n",
       "      <th>VEHICLE_ZIPCD</th>\n",
       "      <th>CLASS_PRIMARY</th>\n",
       "      <th>CLASS_SECONDARY</th>\n",
       "      <th>VEHICLE_TYPE</th>\n",
       "      <th>TRANSFORM_TERRITORY</th>\n",
       "      <th>TERRITORY_GRP</th>\n",
       "      <th>OPERATION_EXPOSURE_VEHICLE</th>\n",
       "      <th>EARNED_EXP_TRANS</th>\n",
       "      <th>EARNED_EXPOSURES</th>\n",
       "      <th>AVG_DRIVER_SURCHARGE</th>\n",
       "      <th>LIAB_SCHMOD</th>\n",
       "      <th>LIAB_EXPERIMOD</th>\n",
       "      <th>RERATED_PREMIUM</th>\n",
       "      <th>...</th>\n",
       "      <th>DEDUCTIBLE_LIAB_AMT</th>\n",
       "      <th>PREM_WRITTEN_TRANS</th>\n",
       "      <th>PREM_WRITTEN_EFF</th>\n",
       "      <th>PREM_EARNED_EFF</th>\n",
       "      <th>OLEP_TRANS</th>\n",
       "      <th>OLEP_EFF</th>\n",
       "      <th>COVERAGE_GROUP</th>\n",
       "      <th>INDEMNITY_PAID</th>\n",
       "      <th>INDEMNITY_INCURRED</th>\n",
       "      <th>EXPENSE_PAID</th>\n",
       "      <th>EXPENSE_INCURRED</th>\n",
       "      <th>LARGE_LOSSES_100K</th>\n",
       "      <th>LARGE_LOSSES_250K</th>\n",
       "      <th>LARGE_LOSSES_500K</th>\n",
       "      <th>LARGE_LOSSES_1M</th>\n",
       "      <th>LATE_REPORTED_CLAIMS</th>\n",
       "      <th>CLAIM_COUNT_PAID</th>\n",
       "      <th>CLAIM_COUNT_NOT_PAID</th>\n",
       "      <th>CRASH_SCORE</th>\n",
       "      <th>BASIC_ALERTS</th>\n",
       "      <th>DRIVER_INSPECTIONS</th>\n",
       "      <th>DRIVER_OUT_OF_SERVICE</th>\n",
       "      <th>DRIVER_OOS_RATIO</th>\n",
       "      <th>VEHICLE_INSPECTIONS</th>\n",
       "      <th>VEHICLE_OUT_OF_SERVICE</th>\n",
       "      <th>VEHICLE_OOS_RATIO</th>\n",
       "      <th>DRIVING_WITHOUT_CDL</th>\n",
       "      <th>DRIVING_WO_CDL_RATIO</th>\n",
       "      <th>MCS150_UNIT_COUNT</th>\n",
       "      <th>MILEAGE_POWER_UNIT_RATIO</th>\n",
       "      <th>DRIVER_POWER_UNIT_RATIO</th>\n",
       "      <th>HOT_ZONE_INsPECTIONS</th>\n",
       "      <th>HOT_ZONE_RATIO</th>\n",
       "      <th>PREVIOUS_INSURERS</th>\n",
       "      <th>LENGTH_WITH_PRIOR</th>\n",
       "      <th>CRASHES_SEASON_1</th>\n",
       "      <th>CRASHES_SEASON_2</th>\n",
       "      <th>CRASHES_SEASON_3</th>\n",
       "      <th>CRASHES_SEASON_4</th>\n",
       "      <th>REGION</th>\n",
       "    </tr>\n",
       "  </thead>\n",
       "  <tbody>\n",
       "    <tr>\n",
       "      <th>0</th>\n",
       "      <td>831876</td>\n",
       "      <td>CAI0038074</td>\n",
       "      <td>2015-02-24</td>\n",
       "      <td>4</td>\n",
       "      <td>2016-02-24</td>\n",
       "      <td>Renewed</td>\n",
       "      <td>Renewal</td>\n",
       "      <td>SCOTTSDALE INDEMNITY COMPANY</td>\n",
       "      <td>TX</td>\n",
       "      <td>A</td>\n",
       "      <td>3RD YR NEW VENTURE</td>\n",
       "      <td>AUTO LIABILITY &amp; AUTO PD ONLY</td>\n",
       "      <td>19.0</td>\n",
       "      <td>3.0</td>\n",
       "      <td>Non Fleet</td>\n",
       "      <td>OTHER</td>\n",
       "      <td>NaN</td>\n",
       "      <td>YES</td>\n",
       "      <td>Non Fleet</td>\n",
       "      <td>21</td>\n",
       "      <td>TX</td>\n",
       "      <td>2007.0</td>\n",
       "      <td>6-15</td>\n",
       "      <td>1M2AG11C97M051901</td>\n",
       "      <td>LOCAL</td>\n",
       "      <td>404520.0</td>\n",
       "      <td>NaN</td>\n",
       "      <td>77701.0</td>\n",
       "      <td>Extra Heavy Local Non-fleet</td>\n",
       "      <td>Waste Disposal - Building Wrecking Operators</td>\n",
       "      <td>Extra Heavy Non Zone Truckers</td>\n",
       "      <td>21</td>\n",
       "      <td>TX03</td>\n",
       "      <td>OTHER</td>\n",
       "      <td>0.005479</td>\n",
       "      <td>0.005479</td>\n",
       "      <td>1.000</td>\n",
       "      <td>1.0</td>\n",
       "      <td>1.0</td>\n",
       "      <td>4131.730928</td>\n",
       "      <td>...</td>\n",
       "      <td>NaN</td>\n",
       "      <td>18.0</td>\n",
       "      <td>18.0</td>\n",
       "      <td>18.0</td>\n",
       "      <td>27.07</td>\n",
       "      <td>27.07</td>\n",
       "      <td>CSL</td>\n",
       "      <td>0.0</td>\n",
       "      <td>0.0</td>\n",
       "      <td>0.0</td>\n",
       "      <td>0.0</td>\n",
       "      <td>0</td>\n",
       "      <td>0</td>\n",
       "      <td>0</td>\n",
       "      <td>0</td>\n",
       "      <td>0</td>\n",
       "      <td>0</td>\n",
       "      <td>0</td>\n",
       "      <td>6.0</td>\n",
       "      <td>0.0</td>\n",
       "      <td>5.0</td>\n",
       "      <td>0.0</td>\n",
       "      <td>0.0</td>\n",
       "      <td>5.0</td>\n",
       "      <td>0.0</td>\n",
       "      <td>0.0</td>\n",
       "      <td>0.0</td>\n",
       "      <td>0.0</td>\n",
       "      <td>3.0</td>\n",
       "      <td>8029.333333</td>\n",
       "      <td>1.0</td>\n",
       "      <td>0.0</td>\n",
       "      <td>0.0</td>\n",
       "      <td>NaN</td>\n",
       "      <td>NaN</td>\n",
       "      <td>0.0</td>\n",
       "      <td>0.0</td>\n",
       "      <td>0.0</td>\n",
       "      <td>1.0</td>\n",
       "      <td>TEXAS</td>\n",
       "    </tr>\n",
       "    <tr>\n",
       "      <th>1</th>\n",
       "      <td>Unknown</td>\n",
       "      <td>CAI0043676</td>\n",
       "      <td>2015-07-11</td>\n",
       "      <td>1</td>\n",
       "      <td>2016-07-11</td>\n",
       "      <td>Cancelled</td>\n",
       "      <td>Renewal</td>\n",
       "      <td>SCOTTSDALE INDEMNITY COMPANY</td>\n",
       "      <td>CA</td>\n",
       "      <td>A</td>\n",
       "      <td>OTHER</td>\n",
       "      <td>AUTO LIABILITY ONLY</td>\n",
       "      <td>5.0</td>\n",
       "      <td>NaN</td>\n",
       "      <td>Non Fleet</td>\n",
       "      <td>OTHER</td>\n",
       "      <td>NaN</td>\n",
       "      <td>YES</td>\n",
       "      <td>Non Fleet</td>\n",
       "      <td>6</td>\n",
       "      <td>CA</td>\n",
       "      <td>1985.0</td>\n",
       "      <td>Over 16</td>\n",
       "      <td>2XKWD29X7FM914742</td>\n",
       "      <td>LOCAL</td>\n",
       "      <td>331840.0</td>\n",
       "      <td>NaN</td>\n",
       "      <td>91505.0</td>\n",
       "      <td>Heavy Commercial Local Fleet</td>\n",
       "      <td>Contractors - Excavating</td>\n",
       "      <td>Heavy Commercial Non Zone Truckers</td>\n",
       "      <td>106</td>\n",
       "      <td>CA01</td>\n",
       "      <td>OTHER</td>\n",
       "      <td>0.000000</td>\n",
       "      <td>0.454795</td>\n",
       "      <td>1.100</td>\n",
       "      <td>1.0</td>\n",
       "      <td>1.0</td>\n",
       "      <td>2757.217012</td>\n",
       "      <td>...</td>\n",
       "      <td>1000.0</td>\n",
       "      <td>1141.0</td>\n",
       "      <td>1141.0</td>\n",
       "      <td>1141.0</td>\n",
       "      <td>2967.83</td>\n",
       "      <td>2968.82</td>\n",
       "      <td>CSL</td>\n",
       "      <td>0.0</td>\n",
       "      <td>0.0</td>\n",
       "      <td>0.0</td>\n",
       "      <td>0.0</td>\n",
       "      <td>0</td>\n",
       "      <td>0</td>\n",
       "      <td>0</td>\n",
       "      <td>0</td>\n",
       "      <td>0</td>\n",
       "      <td>0</td>\n",
       "      <td>0</td>\n",
       "      <td>NaN</td>\n",
       "      <td>NaN</td>\n",
       "      <td>NaN</td>\n",
       "      <td>NaN</td>\n",
       "      <td>NaN</td>\n",
       "      <td>NaN</td>\n",
       "      <td>NaN</td>\n",
       "      <td>NaN</td>\n",
       "      <td>NaN</td>\n",
       "      <td>NaN</td>\n",
       "      <td>NaN</td>\n",
       "      <td>NaN</td>\n",
       "      <td>NaN</td>\n",
       "      <td>NaN</td>\n",
       "      <td>NaN</td>\n",
       "      <td>NaN</td>\n",
       "      <td>NaN</td>\n",
       "      <td>NaN</td>\n",
       "      <td>NaN</td>\n",
       "      <td>NaN</td>\n",
       "      <td>NaN</td>\n",
       "      <td>CALIFORNIA</td>\n",
       "    </tr>\n",
       "    <tr>\n",
       "      <th>2</th>\n",
       "      <td>Unknown</td>\n",
       "      <td>CAI0043717</td>\n",
       "      <td>2016-06-04</td>\n",
       "      <td>3</td>\n",
       "      <td>2017-06-04</td>\n",
       "      <td>Renewed</td>\n",
       "      <td>New</td>\n",
       "      <td>SCOTTSDALE INDEMNITY COMPANY</td>\n",
       "      <td>TX</td>\n",
       "      <td>A</td>\n",
       "      <td>OTHER</td>\n",
       "      <td>AUTO LIABILITY &amp; AUTO PD ONLY</td>\n",
       "      <td>16.0</td>\n",
       "      <td>11.0</td>\n",
       "      <td>Non Fleet</td>\n",
       "      <td>DUMPING</td>\n",
       "      <td>NaN</td>\n",
       "      <td>YES</td>\n",
       "      <td>Non Fleet</td>\n",
       "      <td>6</td>\n",
       "      <td>TX</td>\n",
       "      <td>2005.0</td>\n",
       "      <td>6-15</td>\n",
       "      <td>1M2B209C15M030264</td>\n",
       "      <td>LOCAL</td>\n",
       "      <td>404790.0</td>\n",
       "      <td>NaN</td>\n",
       "      <td>77662.0</td>\n",
       "      <td>Extra Heavy Local Non-fleet</td>\n",
       "      <td>Dump and Transit Mix - All Other</td>\n",
       "      <td>Extra Heavy Non Zone Truckers</td>\n",
       "      <td>6</td>\n",
       "      <td>TX03</td>\n",
       "      <td>DUMPING</td>\n",
       "      <td>1.000000</td>\n",
       "      <td>1.000000</td>\n",
       "      <td>1.115</td>\n",
       "      <td>1.0</td>\n",
       "      <td>1.0</td>\n",
       "      <td>4376.535985</td>\n",
       "      <td>...</td>\n",
       "      <td>500.0</td>\n",
       "      <td>3457.0</td>\n",
       "      <td>3457.0</td>\n",
       "      <td>3457.0</td>\n",
       "      <td>3532.47</td>\n",
       "      <td>3532.47</td>\n",
       "      <td>CSL</td>\n",
       "      <td>0.0</td>\n",
       "      <td>0.0</td>\n",
       "      <td>0.0</td>\n",
       "      <td>0.0</td>\n",
       "      <td>0</td>\n",
       "      <td>0</td>\n",
       "      <td>0</td>\n",
       "      <td>0</td>\n",
       "      <td>0</td>\n",
       "      <td>0</td>\n",
       "      <td>0</td>\n",
       "      <td>NaN</td>\n",
       "      <td>NaN</td>\n",
       "      <td>NaN</td>\n",
       "      <td>NaN</td>\n",
       "      <td>NaN</td>\n",
       "      <td>NaN</td>\n",
       "      <td>NaN</td>\n",
       "      <td>NaN</td>\n",
       "      <td>NaN</td>\n",
       "      <td>NaN</td>\n",
       "      <td>NaN</td>\n",
       "      <td>NaN</td>\n",
       "      <td>NaN</td>\n",
       "      <td>NaN</td>\n",
       "      <td>NaN</td>\n",
       "      <td>NaN</td>\n",
       "      <td>NaN</td>\n",
       "      <td>NaN</td>\n",
       "      <td>NaN</td>\n",
       "      <td>NaN</td>\n",
       "      <td>NaN</td>\n",
       "      <td>TEXAS</td>\n",
       "    </tr>\n",
       "    <tr>\n",
       "      <th>3</th>\n",
       "      <td>643526</td>\n",
       "      <td>CAI0044410</td>\n",
       "      <td>2018-04-29</td>\n",
       "      <td>16</td>\n",
       "      <td>2019-04-29</td>\n",
       "      <td>Renewed</td>\n",
       "      <td>Renewal</td>\n",
       "      <td>SCOTTSDALE INDEMNITY COMPANY</td>\n",
       "      <td>KY</td>\n",
       "      <td>A</td>\n",
       "      <td>OTHER</td>\n",
       "      <td>AUTO LIABILITY &amp; AUTO PD ONLY</td>\n",
       "      <td>48.0</td>\n",
       "      <td>NaN</td>\n",
       "      <td>Mid Fleet</td>\n",
       "      <td>WASTE DISP</td>\n",
       "      <td>NaN</td>\n",
       "      <td>YES</td>\n",
       "      <td>Mid Fleet</td>\n",
       "      <td>106</td>\n",
       "      <td>KY</td>\n",
       "      <td>2010.0</td>\n",
       "      <td>6-15</td>\n",
       "      <td>2NKHHN6X1AM267776</td>\n",
       "      <td>LOCAL</td>\n",
       "      <td>334530.0</td>\n",
       "      <td>NaN</td>\n",
       "      <td>40923.0</td>\n",
       "      <td>Heavy Commercial Local Non-fleet</td>\n",
       "      <td>Waste Disposal - Garbage</td>\n",
       "      <td>Heavy Commercial Non Zone Truckers</td>\n",
       "      <td>106</td>\n",
       "      <td>KY02</td>\n",
       "      <td>WASTE DISP</td>\n",
       "      <td>1.000000</td>\n",
       "      <td>1.000000</td>\n",
       "      <td>1.039</td>\n",
       "      <td>1.0</td>\n",
       "      <td>1.0</td>\n",
       "      <td>2157.602366</td>\n",
       "      <td>...</td>\n",
       "      <td>NaN</td>\n",
       "      <td>2051.0</td>\n",
       "      <td>2051.0</td>\n",
       "      <td>2051.0</td>\n",
       "      <td>1983.32</td>\n",
       "      <td>1983.32</td>\n",
       "      <td>CSL</td>\n",
       "      <td>0.0</td>\n",
       "      <td>0.0</td>\n",
       "      <td>0.0</td>\n",
       "      <td>0.0</td>\n",
       "      <td>0</td>\n",
       "      <td>0</td>\n",
       "      <td>0</td>\n",
       "      <td>0</td>\n",
       "      <td>0</td>\n",
       "      <td>0</td>\n",
       "      <td>0</td>\n",
       "      <td>7.0</td>\n",
       "      <td>0.0</td>\n",
       "      <td>6.0</td>\n",
       "      <td>0.0</td>\n",
       "      <td>0.0</td>\n",
       "      <td>5.0</td>\n",
       "      <td>1.0</td>\n",
       "      <td>0.2</td>\n",
       "      <td>0.0</td>\n",
       "      <td>0.0</td>\n",
       "      <td>17.0</td>\n",
       "      <td>29.411765</td>\n",
       "      <td>1.0</td>\n",
       "      <td>0.0</td>\n",
       "      <td>0.0</td>\n",
       "      <td>NaN</td>\n",
       "      <td>NaN</td>\n",
       "      <td>0.0</td>\n",
       "      <td>0.0</td>\n",
       "      <td>0.0</td>\n",
       "      <td>0.0</td>\n",
       "      <td>MIDWEST</td>\n",
       "    </tr>\n",
       "    <tr>\n",
       "      <th>4</th>\n",
       "      <td>422450</td>\n",
       "      <td>CAI0048094</td>\n",
       "      <td>2015-10-25</td>\n",
       "      <td>30</td>\n",
       "      <td>2016-10-25</td>\n",
       "      <td>Renewed</td>\n",
       "      <td>Renewal</td>\n",
       "      <td>SCOTTSDALE INDEMNITY COMPANY</td>\n",
       "      <td>IL</td>\n",
       "      <td>A</td>\n",
       "      <td>OTHER</td>\n",
       "      <td>AUTO LIABILITY ONLY</td>\n",
       "      <td>16.0</td>\n",
       "      <td>NaN</td>\n",
       "      <td>Mid Fleet</td>\n",
       "      <td>OTHER</td>\n",
       "      <td>NaN</td>\n",
       "      <td>YES</td>\n",
       "      <td>Mid Fleet</td>\n",
       "      <td>137</td>\n",
       "      <td>IL</td>\n",
       "      <td>1996.0</td>\n",
       "      <td>Over 16</td>\n",
       "      <td>4V4JBAPE3TN843398</td>\n",
       "      <td>LOCAL</td>\n",
       "      <td>344990.0</td>\n",
       "      <td>NaN</td>\n",
       "      <td>60804.0</td>\n",
       "      <td>Heavy truck-tractors Service Local Non-fleet</td>\n",
       "      <td>Not Otherwise Specified - All Other</td>\n",
       "      <td>Yard Non Zone Truckers</td>\n",
       "      <td>137</td>\n",
       "      <td>IL01</td>\n",
       "      <td>OTHER</td>\n",
       "      <td>0.947945</td>\n",
       "      <td>0.947945</td>\n",
       "      <td>1.004</td>\n",
       "      <td>1.0</td>\n",
       "      <td>1.0</td>\n",
       "      <td>3723.539820</td>\n",
       "      <td>...</td>\n",
       "      <td>2500.0</td>\n",
       "      <td>1263.0</td>\n",
       "      <td>1263.0</td>\n",
       "      <td>1263.0</td>\n",
       "      <td>1256.95</td>\n",
       "      <td>1256.99</td>\n",
       "      <td>CSL</td>\n",
       "      <td>0.0</td>\n",
       "      <td>0.0</td>\n",
       "      <td>0.0</td>\n",
       "      <td>0.0</td>\n",
       "      <td>0</td>\n",
       "      <td>0</td>\n",
       "      <td>0</td>\n",
       "      <td>0</td>\n",
       "      <td>0</td>\n",
       "      <td>0</td>\n",
       "      <td>0</td>\n",
       "      <td>NaN</td>\n",
       "      <td>0.0</td>\n",
       "      <td>0.0</td>\n",
       "      <td>NaN</td>\n",
       "      <td>NaN</td>\n",
       "      <td>0.0</td>\n",
       "      <td>NaN</td>\n",
       "      <td>NaN</td>\n",
       "      <td>0.0</td>\n",
       "      <td>NaN</td>\n",
       "      <td>4.0</td>\n",
       "      <td>NaN</td>\n",
       "      <td>1.5</td>\n",
       "      <td>0.0</td>\n",
       "      <td>NaN</td>\n",
       "      <td>NaN</td>\n",
       "      <td>NaN</td>\n",
       "      <td>0.0</td>\n",
       "      <td>0.0</td>\n",
       "      <td>0.0</td>\n",
       "      <td>0.0</td>\n",
       "      <td>MIDWEST</td>\n",
       "    </tr>\n",
       "  </tbody>\n",
       "</table>\n",
       "<p>5 rows × 99 columns</p>\n",
       "</div>"
      ]
     },
     "metadata": {
      "application/vnd.databricks.v1+output": {
       "addedWidgets": {},
       "arguments": {},
       "data": "<div>\n<style scoped>\n    .dataframe tbody tr th:only-of-type {\n        vertical-align: middle;\n    }\n\n    .dataframe tbody tr th {\n        vertical-align: top;\n    }\n\n    .dataframe thead th {\n        text-align: right;\n    }\n</style>\n<table border=\"1\" class=\"dataframe\">\n  <thead>\n    <tr style=\"text-align: right;\">\n      <th></th>\n      <th>DOT_NUMBER</th>\n      <th>POLICYID</th>\n      <th>POLICY_EFF_DT</th>\n      <th>VEHICLE_NO</th>\n      <th>POLICY_EXP_DT</th>\n      <th>POLICYSTATUS</th>\n      <th>POLICYISSUETYPE</th>\n      <th>COMPANY</th>\n      <th>POLICYSTATE</th>\n      <th>STATE_ADMITTED</th>\n      <th>NEW_VENTURE</th>\n      <th>PKGCOMBO</th>\n      <th>YRSINBUSCT</th>\n      <th>YRSOFINSCT</th>\n      <th>POLICY_SEGMENT</th>\n      <th>OPERATION_EXPOSURE_POLICY</th>\n      <th>ZONE_GRPCD_POLICY</th>\n      <th>SCHEDULED_FLEET</th>\n      <th>VEHICLE_SEGMENT</th>\n      <th>VEHICLE_TERRITORY</th>\n      <th>VEHICLE_STATE</th>\n      <th>MODEL_YEAR</th>\n      <th>EQUIPMENT_AGE</th>\n      <th>VIN</th>\n      <th>RADIUS_GROUP</th>\n      <th>CLASS_CD</th>\n      <th>ZONE_GRPCD_VEHICLE</th>\n      <th>VEHICLE_ZIPCD</th>\n      <th>CLASS_PRIMARY</th>\n      <th>CLASS_SECONDARY</th>\n      <th>VEHICLE_TYPE</th>\n      <th>TRANSFORM_TERRITORY</th>\n      <th>TERRITORY_GRP</th>\n      <th>OPERATION_EXPOSURE_VEHICLE</th>\n      <th>EARNED_EXP_TRANS</th>\n      <th>EARNED_EXPOSURES</th>\n      <th>AVG_DRIVER_SURCHARGE</th>\n      <th>LIAB_SCHMOD</th>\n      <th>LIAB_EXPERIMOD</th>\n      <th>RERATED_PREMIUM</th>\n      <th>...</th>\n      <th>DEDUCTIBLE_LIAB_AMT</th>\n      <th>PREM_WRITTEN_TRANS</th>\n      <th>PREM_WRITTEN_EFF</th>\n      <th>PREM_EARNED_EFF</th>\n      <th>OLEP_TRANS</th>\n      <th>OLEP_EFF</th>\n      <th>COVERAGE_GROUP</th>\n      <th>INDEMNITY_PAID</th>\n      <th>INDEMNITY_INCURRED</th>\n      <th>EXPENSE_PAID</th>\n      <th>EXPENSE_INCURRED</th>\n      <th>LARGE_LOSSES_100K</th>\n      <th>LARGE_LOSSES_250K</th>\n      <th>LARGE_LOSSES_500K</th>\n      <th>LARGE_LOSSES_1M</th>\n      <th>LATE_REPORTED_CLAIMS</th>\n      <th>CLAIM_COUNT_PAID</th>\n      <th>CLAIM_COUNT_NOT_PAID</th>\n      <th>CRASH_SCORE</th>\n      <th>BASIC_ALERTS</th>\n      <th>DRIVER_INSPECTIONS</th>\n      <th>DRIVER_OUT_OF_SERVICE</th>\n      <th>DRIVER_OOS_RATIO</th>\n      <th>VEHICLE_INSPECTIONS</th>\n      <th>VEHICLE_OUT_OF_SERVICE</th>\n      <th>VEHICLE_OOS_RATIO</th>\n      <th>DRIVING_WITHOUT_CDL</th>\n      <th>DRIVING_WO_CDL_RATIO</th>\n      <th>MCS150_UNIT_COUNT</th>\n      <th>MILEAGE_POWER_UNIT_RATIO</th>\n      <th>DRIVER_POWER_UNIT_RATIO</th>\n      <th>HOT_ZONE_INsPECTIONS</th>\n      <th>HOT_ZONE_RATIO</th>\n      <th>PREVIOUS_INSURERS</th>\n      <th>LENGTH_WITH_PRIOR</th>\n      <th>CRASHES_SEASON_1</th>\n      <th>CRASHES_SEASON_2</th>\n      <th>CRASHES_SEASON_3</th>\n      <th>CRASHES_SEASON_4</th>\n      <th>REGION</th>\n    </tr>\n  </thead>\n  <tbody>\n    <tr>\n      <th>0</th>\n      <td>831876</td>\n      <td>CAI0038074</td>\n      <td>2015-02-24</td>\n      <td>4</td>\n      <td>2016-02-24</td>\n      <td>Renewed</td>\n      <td>Renewal</td>\n      <td>SCOTTSDALE INDEMNITY COMPANY</td>\n      <td>TX</td>\n      <td>A</td>\n      <td>3RD YR NEW VENTURE</td>\n      <td>AUTO LIABILITY &amp; AUTO PD ONLY</td>\n      <td>19.0</td>\n      <td>3.0</td>\n      <td>Non Fleet</td>\n      <td>OTHER</td>\n      <td>NaN</td>\n      <td>YES</td>\n      <td>Non Fleet</td>\n      <td>21</td>\n      <td>TX</td>\n      <td>2007.0</td>\n      <td>6-15</td>\n      <td>1M2AG11C97M051901</td>\n      <td>LOCAL</td>\n      <td>404520.0</td>\n      <td>NaN</td>\n      <td>77701.0</td>\n      <td>Extra Heavy Local Non-fleet</td>\n      <td>Waste Disposal - Building Wrecking Operators</td>\n      <td>Extra Heavy Non Zone Truckers</td>\n      <td>21</td>\n      <td>TX03</td>\n      <td>OTHER</td>\n      <td>0.005479</td>\n      <td>0.005479</td>\n      <td>1.000</td>\n      <td>1.0</td>\n      <td>1.0</td>\n      <td>4131.730928</td>\n      <td>...</td>\n      <td>NaN</td>\n      <td>18.0</td>\n      <td>18.0</td>\n      <td>18.0</td>\n      <td>27.07</td>\n      <td>27.07</td>\n      <td>CSL</td>\n      <td>0.0</td>\n      <td>0.0</td>\n      <td>0.0</td>\n      <td>0.0</td>\n      <td>0</td>\n      <td>0</td>\n      <td>0</td>\n      <td>0</td>\n      <td>0</td>\n      <td>0</td>\n      <td>0</td>\n      <td>6.0</td>\n      <td>0.0</td>\n      <td>5.0</td>\n      <td>0.0</td>\n      <td>0.0</td>\n      <td>5.0</td>\n      <td>0.0</td>\n      <td>0.0</td>\n      <td>0.0</td>\n      <td>0.0</td>\n      <td>3.0</td>\n      <td>8029.333333</td>\n      <td>1.0</td>\n      <td>0.0</td>\n      <td>0.0</td>\n      <td>NaN</td>\n      <td>NaN</td>\n      <td>0.0</td>\n      <td>0.0</td>\n      <td>0.0</td>\n      <td>1.0</td>\n      <td>TEXAS</td>\n    </tr>\n    <tr>\n      <th>1</th>\n      <td>Unknown</td>\n      <td>CAI0043676</td>\n      <td>2015-07-11</td>\n      <td>1</td>\n      <td>2016-07-11</td>\n      <td>Cancelled</td>\n      <td>Renewal</td>\n      <td>SCOTTSDALE INDEMNITY COMPANY</td>\n      <td>CA</td>\n      <td>A</td>\n      <td>OTHER</td>\n      <td>AUTO LIABILITY ONLY</td>\n      <td>5.0</td>\n      <td>NaN</td>\n      <td>Non Fleet</td>\n      <td>OTHER</td>\n      <td>NaN</td>\n      <td>YES</td>\n      <td>Non Fleet</td>\n      <td>6</td>\n      <td>CA</td>\n      <td>1985.0</td>\n      <td>Over 16</td>\n      <td>2XKWD29X7FM914742</td>\n      <td>LOCAL</td>\n      <td>331840.0</td>\n      <td>NaN</td>\n      <td>91505.0</td>\n      <td>Heavy Commercial Local Fleet</td>\n      <td>Contractors - Excavating</td>\n      <td>Heavy Commercial Non Zone Truckers</td>\n      <td>106</td>\n      <td>CA01</td>\n      <td>OTHER</td>\n      <td>0.000000</td>\n      <td>0.454795</td>\n      <td>1.100</td>\n      <td>1.0</td>\n      <td>1.0</td>\n      <td>2757.217012</td>\n      <td>...</td>\n      <td>1000.0</td>\n      <td>1141.0</td>\n      <td>1141.0</td>\n      <td>1141.0</td>\n      <td>2967.83</td>\n      <td>2968.82</td>\n      <td>CSL</td>\n      <td>0.0</td>\n      <td>0.0</td>\n      <td>0.0</td>\n      <td>0.0</td>\n      <td>0</td>\n      <td>0</td>\n      <td>0</td>\n      <td>0</td>\n      <td>0</td>\n      <td>0</td>\n      <td>0</td>\n      <td>NaN</td>\n      <td>NaN</td>\n      <td>NaN</td>\n      <td>NaN</td>\n      <td>NaN</td>\n      <td>NaN</td>\n      <td>NaN</td>\n      <td>NaN</td>\n      <td>NaN</td>\n      <td>NaN</td>\n      <td>NaN</td>\n      <td>NaN</td>\n      <td>NaN</td>\n      <td>NaN</td>\n      <td>NaN</td>\n      <td>NaN</td>\n      <td>NaN</td>\n      <td>NaN</td>\n      <td>NaN</td>\n      <td>NaN</td>\n      <td>NaN</td>\n      <td>CALIFORNIA</td>\n    </tr>\n    <tr>\n      <th>2</th>\n      <td>Unknown</td>\n      <td>CAI0043717</td>\n      <td>2016-06-04</td>\n      <td>3</td>\n      <td>2017-06-04</td>\n      <td>Renewed</td>\n      <td>New</td>\n      <td>SCOTTSDALE INDEMNITY COMPANY</td>\n      <td>TX</td>\n      <td>A</td>\n      <td>OTHER</td>\n      <td>AUTO LIABILITY &amp; AUTO PD ONLY</td>\n      <td>16.0</td>\n      <td>11.0</td>\n      <td>Non Fleet</td>\n      <td>DUMPING</td>\n      <td>NaN</td>\n      <td>YES</td>\n      <td>Non Fleet</td>\n      <td>6</td>\n      <td>TX</td>\n      <td>2005.0</td>\n      <td>6-15</td>\n      <td>1M2B209C15M030264</td>\n      <td>LOCAL</td>\n      <td>404790.0</td>\n      <td>NaN</td>\n      <td>77662.0</td>\n      <td>Extra Heavy Local Non-fleet</td>\n      <td>Dump and Transit Mix - All Other</td>\n      <td>Extra Heavy Non Zone Truckers</td>\n      <td>6</td>\n      <td>TX03</td>\n      <td>DUMPING</td>\n      <td>1.000000</td>\n      <td>1.000000</td>\n      <td>1.115</td>\n      <td>1.0</td>\n      <td>1.0</td>\n      <td>4376.535985</td>\n      <td>...</td>\n      <td>500.0</td>\n      <td>3457.0</td>\n      <td>3457.0</td>\n      <td>3457.0</td>\n      <td>3532.47</td>\n      <td>3532.47</td>\n      <td>CSL</td>\n      <td>0.0</td>\n      <td>0.0</td>\n      <td>0.0</td>\n      <td>0.0</td>\n      <td>0</td>\n      <td>0</td>\n      <td>0</td>\n      <td>0</td>\n      <td>0</td>\n      <td>0</td>\n      <td>0</td>\n      <td>NaN</td>\n      <td>NaN</td>\n      <td>NaN</td>\n      <td>NaN</td>\n      <td>NaN</td>\n      <td>NaN</td>\n      <td>NaN</td>\n      <td>NaN</td>\n      <td>NaN</td>\n      <td>NaN</td>\n      <td>NaN</td>\n      <td>NaN</td>\n      <td>NaN</td>\n      <td>NaN</td>\n      <td>NaN</td>\n      <td>NaN</td>\n      <td>NaN</td>\n      <td>NaN</td>\n      <td>NaN</td>\n      <td>NaN</td>\n      <td>NaN</td>\n      <td>TEXAS</td>\n    </tr>\n    <tr>\n      <th>3</th>\n      <td>643526</td>\n      <td>CAI0044410</td>\n      <td>2018-04-29</td>\n      <td>16</td>\n      <td>2019-04-29</td>\n      <td>Renewed</td>\n      <td>Renewal</td>\n      <td>SCOTTSDALE INDEMNITY COMPANY</td>\n      <td>KY</td>\n      <td>A</td>\n      <td>OTHER</td>\n      <td>AUTO LIABILITY &amp; AUTO PD ONLY</td>\n      <td>48.0</td>\n      <td>NaN</td>\n      <td>Mid Fleet</td>\n      <td>WASTE DISP</td>\n      <td>NaN</td>\n      <td>YES</td>\n      <td>Mid Fleet</td>\n      <td>106</td>\n      <td>KY</td>\n      <td>2010.0</td>\n      <td>6-15</td>\n      <td>2NKHHN6X1AM267776</td>\n      <td>LOCAL</td>\n      <td>334530.0</td>\n      <td>NaN</td>\n      <td>40923.0</td>\n      <td>Heavy Commercial Local Non-fleet</td>\n      <td>Waste Disposal - Garbage</td>\n      <td>Heavy Commercial Non Zone Truckers</td>\n      <td>106</td>\n      <td>KY02</td>\n      <td>WASTE DISP</td>\n      <td>1.000000</td>\n      <td>1.000000</td>\n      <td>1.039</td>\n      <td>1.0</td>\n      <td>1.0</td>\n      <td>2157.602366</td>\n      <td>...</td>\n      <td>NaN</td>\n      <td>2051.0</td>\n      <td>2051.0</td>\n      <td>2051.0</td>\n      <td>1983.32</td>\n      <td>1983.32</td>\n      <td>CSL</td>\n      <td>0.0</td>\n      <td>0.0</td>\n      <td>0.0</td>\n      <td>0.0</td>\n      <td>0</td>\n      <td>0</td>\n      <td>0</td>\n      <td>0</td>\n      <td>0</td>\n      <td>0</td>\n      <td>0</td>\n      <td>7.0</td>\n      <td>0.0</td>\n      <td>6.0</td>\n      <td>0.0</td>\n      <td>0.0</td>\n      <td>5.0</td>\n      <td>1.0</td>\n      <td>0.2</td>\n      <td>0.0</td>\n      <td>0.0</td>\n      <td>17.0</td>\n      <td>29.411765</td>\n      <td>1.0</td>\n      <td>0.0</td>\n      <td>0.0</td>\n      <td>NaN</td>\n      <td>NaN</td>\n      <td>0.0</td>\n      <td>0.0</td>\n      <td>0.0</td>\n      <td>0.0</td>\n      <td>MIDWEST</td>\n    </tr>\n    <tr>\n      <th>4</th>\n      <td>422450</td>\n      <td>CAI0048094</td>\n      <td>2015-10-25</td>\n      <td>30</td>\n      <td>2016-10-25</td>\n      <td>Renewed</td>\n      <td>Renewal</td>\n      <td>SCOTTSDALE INDEMNITY COMPANY</td>\n      <td>IL</td>\n      <td>A</td>\n      <td>OTHER</td>\n      <td>AUTO LIABILITY ONLY</td>\n      <td>16.0</td>\n      <td>NaN</td>\n      <td>Mid Fleet</td>\n      <td>OTHER</td>\n      <td>NaN</td>\n      <td>YES</td>\n      <td>Mid Fleet</td>\n      <td>137</td>\n      <td>IL</td>\n      <td>1996.0</td>\n      <td>Over 16</td>\n      <td>4V4JBAPE3TN843398</td>\n      <td>LOCAL</td>\n      <td>344990.0</td>\n      <td>NaN</td>\n      <td>60804.0</td>\n      <td>Heavy truck-tractors Service Local Non-fleet</td>\n      <td>Not Otherwise Specified - All Other</td>\n      <td>Yard Non Zone Truckers</td>\n      <td>137</td>\n      <td>IL01</td>\n      <td>OTHER</td>\n      <td>0.947945</td>\n      <td>0.947945</td>\n      <td>1.004</td>\n      <td>1.0</td>\n      <td>1.0</td>\n      <td>3723.539820</td>\n      <td>...</td>\n      <td>2500.0</td>\n      <td>1263.0</td>\n      <td>1263.0</td>\n      <td>1263.0</td>\n      <td>1256.95</td>\n      <td>1256.99</td>\n      <td>CSL</td>\n      <td>0.0</td>\n      <td>0.0</td>\n      <td>0.0</td>\n      <td>0.0</td>\n      <td>0</td>\n      <td>0</td>\n      <td>0</td>\n      <td>0</td>\n      <td>0</td>\n      <td>0</td>\n      <td>0</td>\n      <td>NaN</td>\n      <td>0.0</td>\n      <td>0.0</td>\n      <td>NaN</td>\n      <td>NaN</td>\n      <td>0.0</td>\n      <td>NaN</td>\n      <td>NaN</td>\n      <td>0.0</td>\n      <td>NaN</td>\n      <td>4.0</td>\n      <td>NaN</td>\n      <td>1.5</td>\n      <td>0.0</td>\n      <td>NaN</td>\n      <td>NaN</td>\n      <td>NaN</td>\n      <td>0.0</td>\n      <td>0.0</td>\n      <td>0.0</td>\n      <td>0.0</td>\n      <td>MIDWEST</td>\n    </tr>\n  </tbody>\n</table>\n<p>5 rows × 99 columns</p>\n</div>",
       "datasetInfos": [],
       "metadata": {},
       "removedWidgets": [],
       "textData": null,
       "type": "htmlSandbox"
      }
     },
     "output_type": "display_data"
    }
   ],
   "source": [
    "#reading data\n",
    "rubix5_eda = pd.read_csv('/dbfs/FileStore/export_cab.csv')\n",
    "\n",
    "# apply filters - prepared by Julie, Thank you, Julie!\n",
    "\"\"\"\n",
    "    The Rubix 5 dataset is already limited to:\n",
    "-Policies effective 1-1-2015 and later\n",
    "-CSL only\n",
    "-Power units only (no trailers)\n",
    "-For Hire Trucking only (no public auto, business auto or garage)\n",
    "\n",
    "Onyshchenko, Igor Additional filters needed will be SCHEDULED_FLEET = \"YES\" and COMPANY <> \"FREEDOM SPECIALTY\"\n",
    "I think this covers it.  Let me know if anyone thinks I missed anything.\n",
    "\"\"\"\n",
    "\n",
    "rubix5_eda = rubix5_eda[rubix5_eda['SCHEDULED_FLEET']==\"YES\"]\n",
    "rubix5_eda = rubix5_eda[rubix5_eda['COMPANY'] != 'FREEDOM SPECIALTY']\n",
    "\n",
    "# there still was 'Brokerage Trans' and 'Business Auto' for I'm filtering it\n",
    "rubix5_eda = rubix5_eda[rubix5_eda['VEHICLE_SEGMENT'].isin(['Large Fleet','Mid Fleet','Non Fleet'])]\n",
    "rubix5_eda = rubix5_eda[rubix5_eda['POLICY_SEGMENT'].isin(['Large Fleet','Mid Fleet','Non Fleet'])]\n",
    "\n",
    "#filtering earned exposures ==0 572 cases and <0 in 13 cases\n",
    "rubix5_eda = rubix5_eda[rubix5_eda['EARNED_EXPOSURES'] > 0]\n",
    "\n",
    "#filtering POLICYSTATE != 'HI' and 'MA'\n",
    "rubix5_eda = rubix5_eda[rubix5_eda['POLICYSTATE'].isin(['HI', 'MA']) == False]\n",
    "\n",
    "# filtering CLASS_CODE != 748900 - Non-Trucking \n",
    "rubix5_eda = rubix5_eda[rubix5_eda['CLASS_CD']!=748900]\n",
    "\n",
    "\n",
    "# adding a column from Julie\n",
    "rubix5_eda['REGION'] = rubix5_eda['POLICYSTATE'].copy()\n",
    "rubix5_eda.loc[rubix5_eda['POLICYSTATE'] == 'CA', 'REGION'] = 'CALIFORNIA' \n",
    "rubix5_eda.loc[rubix5_eda['POLICYSTATE'] == 'FL', 'REGION'] = 'FLORIDA' \n",
    "rubix5_eda.loc[rubix5_eda['POLICYSTATE'] == 'TX', 'REGION'] = 'TEXAS' \n",
    "rubix5_eda.loc[rubix5_eda['POLICYSTATE'].isin([\"CT\",\"DE\",\"MA\",\"MD\",\"ME\",\"NH\",\"NJ\",\"NY\",\"PA\",\"RI\",\"VA\",\"VT\",\"WV\"]), 'REGION'] = 'EAST' \n",
    "rubix5_eda.loc[rubix5_eda['POLICYSTATE'].isin([\"IA\",\"IL\",\"IN\",\"KS\",\"KY\",\"MI\",\"MN\",\"MO\",\"ND\",\"NE\",\"OH\",\"OK\",\"SD\",\"WI\"]), 'REGION'] = 'MIDWEST' \n",
    "rubix5_eda.loc[rubix5_eda['POLICYSTATE'].isin([\"AL\",\"AR\",\"GA\",\"LA\",\"MS\",\"NC\",\"SC\",\"TN\"]), 'REGION'] = 'SOUTHEAST' \n",
    "rubix5_eda.loc[rubix5_eda['POLICYSTATE'].isin([\"AZ\",\"CO\",\"ID\",\"MT\",\"NM\",\"NV\",\"OR\",\"UT\",\"WA\",\"WY\"]), 'REGION'] = 'WEST' \n",
    "rubix5_eda.loc[rubix5_eda['POLICYSTATE'].isin([\"AK\",\"HI\"]), 'REGION'] = 'OTHER' \n",
    "\n",
    "#resetting indexes\n",
    "rubix5_eda.reset_index(drop=True, inplace = True)\n",
    "# del rubix5_eda['Unnamed: 0']\n",
    "rubix5_eda.head()"
   ]
  },
  {
   "cell_type": "code",
   "execution_count": 0,
   "metadata": {
    "application/vnd.databricks.v1+cell": {
     "inputWidgets": {},
     "nuid": "cad85ed7-0ac1-42ee-b5d0-4f3e7fe3954e",
     "showTitle": false,
     "title": ""
    }
   },
   "outputs": [
    {
     "data": {
      "text/html": [
       "<style scoped>\n",
       "  .ansiout {\n",
       "    display: block;\n",
       "    unicode-bidi: embed;\n",
       "    white-space: pre-wrap;\n",
       "    word-wrap: break-word;\n",
       "    word-break: break-all;\n",
       "    font-family: \"Source Code Pro\", \"Menlo\", monospace;;\n",
       "    font-size: 13px;\n",
       "    color: #555;\n",
       "    margin-left: 4px;\n",
       "    line-height: 19px;\n",
       "  }\n",
       "</style>\n",
       "<div class=\"ansiout\">&lt;command-4135060219618242&gt;:63: SettingWithCopyWarning: \n",
       "A value is trying to be set on a copy of a slice from a DataFrame.\n",
       "Try using .loc[row_indexer,col_indexer] = value instead\n",
       "\n",
       "See the caveats in the documentation: https://pandas.pydata.org/pandas-docs/stable/user_guide/indexing.html#returning-a-view-versus-a-copy\n",
       "  df[&#39;POLICY_YEAR&#39;] = df[&#39;POLICY_EFF_DT&#39;].apply(lambda x: str(x)[:4]).astype(&#39;int&#39;)\n",
       "&lt;command-4135060219618242&gt;:64: SettingWithCopyWarning: \n",
       "A value is trying to be set on a copy of a slice from a DataFrame.\n",
       "Try using .loc[row_indexer,col_indexer] = value instead\n",
       "\n",
       "See the caveats in the documentation: https://pandas.pydata.org/pandas-docs/stable/user_guide/indexing.html#returning-a-view-versus-a-copy\n",
       "  df[&#39;POLICY_MONTH&#39;] = df[&#39;POLICY_EFF_DT&#39;].apply(lambda x: str(x)[5:7]).astype(&#39;int&#39;)\n",
       "&lt;command-4135060219618242&gt;:66: SettingWithCopyWarning: \n",
       "A value is trying to be set on a copy of a slice from a DataFrame.\n",
       "Try using .loc[row_indexer,col_indexer] = value instead\n",
       "\n",
       "See the caveats in the documentation: https://pandas.pydata.org/pandas-docs/stable/user_guide/indexing.html#returning-a-view-versus-a-copy\n",
       "  df[&#39;VIN_GRP1&#39;] = df[&#39;VIN&#39;].apply(lambda x: str(x)[:1])\n",
       "/databricks/python/lib/python3.8/site-packages/pandas/core/indexing.py:1720: SettingWithCopyWarning: \n",
       "A value is trying to be set on a copy of a slice from a DataFrame.\n",
       "Try using .loc[row_indexer,col_indexer] = value instead\n",
       "\n",
       "See the caveats in the documentation: https://pandas.pydata.org/pandas-docs/stable/user_guide/indexing.html#returning-a-view-versus-a-copy\n",
       "  self._setitem_single_column(loc, value, pi)\n",
       "&lt;command-4135060219618242&gt;:69: SettingWithCopyWarning: \n",
       "A value is trying to be set on a copy of a slice from a DataFrame.\n",
       "Try using .loc[row_indexer,col_indexer] = value instead\n",
       "\n",
       "See the caveats in the documentation: https://pandas.pydata.org/pandas-docs/stable/user_guide/indexing.html#returning-a-view-versus-a-copy\n",
       "  df[&#39;VIN_GRP2&#39;] = df[&#39;VIN&#39;].apply(lambda x: str(x)[:2])\n",
       "/databricks/python/lib/python3.8/site-packages/pandas/core/indexing.py:1720: SettingWithCopyWarning: \n",
       "A value is trying to be set on a copy of a slice from a DataFrame.\n",
       "Try using .loc[row_indexer,col_indexer] = value instead\n",
       "\n",
       "See the caveats in the documentation: https://pandas.pydata.org/pandas-docs/stable/user_guide/indexing.html#returning-a-view-versus-a-copy\n",
       "  self._setitem_single_column(loc, value, pi)\n",
       "&lt;command-4135060219618242&gt;:73: SettingWithCopyWarning: \n",
       "A value is trying to be set on a copy of a slice from a DataFrame.\n",
       "Try using .loc[row_indexer,col_indexer] = value instead\n",
       "\n",
       "See the caveats in the documentation: https://pandas.pydata.org/pandas-docs/stable/user_guide/indexing.html#returning-a-view-versus-a-copy\n",
       "  df[&#39;VIN_GRP3&#39;] = df[&#39;VIN&#39;].apply(lambda x: str(x)[:3])\n",
       "/databricks/python/lib/python3.8/site-packages/pandas/core/indexing.py:1720: SettingWithCopyWarning: \n",
       "A value is trying to be set on a copy of a slice from a DataFrame.\n",
       "Try using .loc[row_indexer,col_indexer] = value instead\n",
       "\n",
       "See the caveats in the documentation: https://pandas.pydata.org/pandas-docs/stable/user_guide/indexing.html#returning-a-view-versus-a-copy\n",
       "  self._setitem_single_column(loc, value, pi)\n",
       "&lt;command-4135060219618242&gt;:83: SettingWithCopyWarning: \n",
       "A value is trying to be set on a copy of a slice from a DataFrame.\n",
       "Try using .loc[row_indexer,col_indexer] = value instead\n",
       "\n",
       "See the caveats in the documentation: https://pandas.pydata.org/pandas-docs/stable/user_guide/indexing.html#returning-a-view-versus-a-copy\n",
       "  df[&#39;MODEL_AGE&#39;] = df[&#39;POLICY_YEAR&#39;] - df[&#39;MODEL_YEAR&#39;] + 1\n",
       "&lt;command-4135060219618242&gt;:86: SettingWithCopyWarning: \n",
       "A value is trying to be set on a copy of a slice from a DataFrame.\n",
       "Try using .loc[row_indexer,col_indexer] = value instead\n",
       "\n",
       "See the caveats in the documentation: https://pandas.pydata.org/pandas-docs/stable/user_guide/indexing.html#returning-a-view-versus-a-copy\n",
       "  df[&#39;TARGET&#39;] = df[&#39;CLAIM_COUNT_PAID&#39;] / df[&#39;EARNED_EXPOSURES&#39;]\n",
       "&lt;command-4135060219618242&gt;:87: SettingWithCopyWarning: \n",
       "A value is trying to be set on a copy of a slice from a DataFrame.\n",
       "Try using .loc[row_indexer,col_indexer] = value instead\n",
       "\n",
       "See the caveats in the documentation: https://pandas.pydata.org/pandas-docs/stable/user_guide/indexing.html#returning-a-view-versus-a-copy\n",
       "  df[&#39;TARGET_BINARY&#39;] = df[&#39;CLAIM_COUNT_PAID&#39;].apply(lambda x: 1 if x&gt;0 else 0)\n",
       "</div>"
      ]
     },
     "metadata": {
      "application/vnd.databricks.v1+output": {
       "addedWidgets": {},
       "arguments": {},
       "data": "<div class=\"ansiout\">&lt;command-4135060219618242&gt;:63: SettingWithCopyWarning: \nA value is trying to be set on a copy of a slice from a DataFrame.\nTry using .loc[row_indexer,col_indexer] = value instead\n\nSee the caveats in the documentation: https://pandas.pydata.org/pandas-docs/stable/user_guide/indexing.html#returning-a-view-versus-a-copy\n  df[&#39;POLICY_YEAR&#39;] = df[&#39;POLICY_EFF_DT&#39;].apply(lambda x: str(x)[:4]).astype(&#39;int&#39;)\n&lt;command-4135060219618242&gt;:64: SettingWithCopyWarning: \nA value is trying to be set on a copy of a slice from a DataFrame.\nTry using .loc[row_indexer,col_indexer] = value instead\n\nSee the caveats in the documentation: https://pandas.pydata.org/pandas-docs/stable/user_guide/indexing.html#returning-a-view-versus-a-copy\n  df[&#39;POLICY_MONTH&#39;] = df[&#39;POLICY_EFF_DT&#39;].apply(lambda x: str(x)[5:7]).astype(&#39;int&#39;)\n&lt;command-4135060219618242&gt;:66: SettingWithCopyWarning: \nA value is trying to be set on a copy of a slice from a DataFrame.\nTry using .loc[row_indexer,col_indexer] = value instead\n\nSee the caveats in the documentation: https://pandas.pydata.org/pandas-docs/stable/user_guide/indexing.html#returning-a-view-versus-a-copy\n  df[&#39;VIN_GRP1&#39;] = df[&#39;VIN&#39;].apply(lambda x: str(x)[:1])\n/databricks/python/lib/python3.8/site-packages/pandas/core/indexing.py:1720: SettingWithCopyWarning: \nA value is trying to be set on a copy of a slice from a DataFrame.\nTry using .loc[row_indexer,col_indexer] = value instead\n\nSee the caveats in the documentation: https://pandas.pydata.org/pandas-docs/stable/user_guide/indexing.html#returning-a-view-versus-a-copy\n  self._setitem_single_column(loc, value, pi)\n&lt;command-4135060219618242&gt;:69: SettingWithCopyWarning: \nA value is trying to be set on a copy of a slice from a DataFrame.\nTry using .loc[row_indexer,col_indexer] = value instead\n\nSee the caveats in the documentation: https://pandas.pydata.org/pandas-docs/stable/user_guide/indexing.html#returning-a-view-versus-a-copy\n  df[&#39;VIN_GRP2&#39;] = df[&#39;VIN&#39;].apply(lambda x: str(x)[:2])\n/databricks/python/lib/python3.8/site-packages/pandas/core/indexing.py:1720: SettingWithCopyWarning: \nA value is trying to be set on a copy of a slice from a DataFrame.\nTry using .loc[row_indexer,col_indexer] = value instead\n\nSee the caveats in the documentation: https://pandas.pydata.org/pandas-docs/stable/user_guide/indexing.html#returning-a-view-versus-a-copy\n  self._setitem_single_column(loc, value, pi)\n&lt;command-4135060219618242&gt;:73: SettingWithCopyWarning: \nA value is trying to be set on a copy of a slice from a DataFrame.\nTry using .loc[row_indexer,col_indexer] = value instead\n\nSee the caveats in the documentation: https://pandas.pydata.org/pandas-docs/stable/user_guide/indexing.html#returning-a-view-versus-a-copy\n  df[&#39;VIN_GRP3&#39;] = df[&#39;VIN&#39;].apply(lambda x: str(x)[:3])\n/databricks/python/lib/python3.8/site-packages/pandas/core/indexing.py:1720: SettingWithCopyWarning: \nA value is trying to be set on a copy of a slice from a DataFrame.\nTry using .loc[row_indexer,col_indexer] = value instead\n\nSee the caveats in the documentation: https://pandas.pydata.org/pandas-docs/stable/user_guide/indexing.html#returning-a-view-versus-a-copy\n  self._setitem_single_column(loc, value, pi)\n&lt;command-4135060219618242&gt;:83: SettingWithCopyWarning: \nA value is trying to be set on a copy of a slice from a DataFrame.\nTry using .loc[row_indexer,col_indexer] = value instead\n\nSee the caveats in the documentation: https://pandas.pydata.org/pandas-docs/stable/user_guide/indexing.html#returning-a-view-versus-a-copy\n  df[&#39;MODEL_AGE&#39;] = df[&#39;POLICY_YEAR&#39;] - df[&#39;MODEL_YEAR&#39;] + 1\n&lt;command-4135060219618242&gt;:86: SettingWithCopyWarning: \nA value is trying to be set on a copy of a slice from a DataFrame.\nTry using .loc[row_indexer,col_indexer] = value instead\n\nSee the caveats in the documentation: https://pandas.pydata.org/pandas-docs/stable/user_guide/indexing.html#returning-a-view-versus-a-copy\n  df[&#39;TARGET&#39;] = df[&#39;CLAIM_COUNT_PAID&#39;] / df[&#39;EARNED_EXPOSURES&#39;]\n&lt;command-4135060219618242&gt;:87: SettingWithCopyWarning: \nA value is trying to be set on a copy of a slice from a DataFrame.\nTry using .loc[row_indexer,col_indexer] = value instead\n\nSee the caveats in the documentation: https://pandas.pydata.org/pandas-docs/stable/user_guide/indexing.html#returning-a-view-versus-a-copy\n  df[&#39;TARGET_BINARY&#39;] = df[&#39;CLAIM_COUNT_PAID&#39;].apply(lambda x: 1 if x&gt;0 else 0)\n</div>",
       "datasetInfos": [],
       "metadata": {},
       "removedWidgets": [],
       "type": "html"
      }
     },
     "output_type": "display_data"
    }
   ],
   "source": [
    "# keep only features that can be used for modelling\n",
    "# the list of features prepared by Amanpreet and checked by Jason and Tyler, Thank you guys!\n",
    "\n",
    "selected_columns = ['POLICYID',\n",
    "'POLICY_EFF_DT',\n",
    "'POLICYSTATUS',\n",
    "'COMPANY',\n",
    "'NEW_VENTURE',\n",
    "'PKGCOMBO',\n",
    "'YRSINBUSCT',\n",
    "'YRSOFINSCT',\n",
    "'POLICYSTATE',\n",
    "'POLICY_SEGMENT',\n",
    "'SCHEDULED_FLEET',\n",
    "'VEHICLE_SEGMENT',\n",
    "'VEHICLE_STATE',\n",
    "'MODEL_YEAR',\n",
    "'EQUIPMENT_AGE',\n",
    "'VIN',\n",
    "'RADIUS_GROUP',\n",
    "'ZONE_GRPCD_VEHICLE',\n",
    "'VEHICLE_ZIPCD',\n",
    "'VEHICLE_TYPE',\n",
    "'TRANSFORM_TERRITORY',\n",
    "'TERRITORY_GRP',\n",
    "'OPERATION_EXPOSURE_VEHICLE',\n",
    "'AVG_DRIVER_SURCHARGE',\n",
    "'VEHICLE_COUNT',\n",
    "'LIMIT_CSL',\n",
    "'DEDUCTIBLE_LIAB_TYPE',\n",
    "'DEDUCTIBLE_LIAB_AMT',\n",
    "'EARNED_EXPOSURES',\n",
    "'CLAIM_COUNT_PAID',\n",
    "# CAB features\n",
    "# 'CRASH_SCORE',\n",
    "# 'BASIC_ALERTS',\n",
    "# 'DRIVER_INSPECTIONS',\n",
    "# 'DRIVER_OUT_OF_SERVICE',\n",
    "# 'DRIVER_OOS_RATIO',\n",
    "# 'VEHICLE_INSPECTIONS',\n",
    "# 'VEHICLE_OUT_OF_SERVICE',\n",
    "# 'VEHICLE_OOS_RATIO',\n",
    "# 'DRIVING_WITHOUT_CDL',\n",
    "# 'DRIVING_WO_CDL_RATIO',\n",
    "# 'MCS150_UNIT_COUNT',\n",
    "# 'MILEAGE_POWER_UNIT_RATIO',\n",
    "# 'DRIVER_POWER_UNIT_RATIO',\n",
    "# 'HOT_ZONE_INsPECTIONS',\n",
    "# 'HOT_ZONE_RATIO',\n",
    "# 'PREVIOUS_INSURERS',\n",
    "# 'LENGTH_WITH_PRIOR',\n",
    "# 'CRASHES_SEASON_1',\n",
    "# 'CRASHES_SEASON_2',\n",
    "# 'CRASHES_SEASON_3',\n",
    "# 'CRASHES_SEASON_4',\n",
    "'REGION'\n",
    "]\n",
    "\n",
    "\n",
    "df = rubix5_eda[selected_columns]\n",
    "\n",
    "# initial feature engineering\n",
    "df['POLICY_YEAR'] = df['POLICY_EFF_DT'].apply(lambda x: str(x)[:4]).astype('int')\n",
    "df['POLICY_MONTH'] = df['POLICY_EFF_DT'].apply(lambda x: str(x)[5:7]).astype('int')\n",
    "\n",
    "df['VIN_GRP1'] = df['VIN'].apply(lambda x: str(x)[:1])\n",
    "df.loc[df['VIN_GRP1'].isin(['1','2','3','4','5'])==False, 'VIN_GRP1'] = 'OTHER'\n",
    "\n",
    "df['VIN_GRP2'] = df['VIN'].apply(lambda x: str(x)[:2])\n",
    "df.loc[df['VIN_GRP2'].isin(['3W', '2X', '3F', '5P', '2N', '2W', '3C', '5K', '2F', '1G', '3H',\n",
    "                           '1N','1H','1M', '2H', '3A', '4V', '1F', '1X'])==False, 'VIN_GRP2'] = 'OTHER'\n",
    "\n",
    "df['VIN_GRP3'] = df['VIN'].apply(lambda x: str(x)[:3])\n",
    "df.loc[df['VIN_GRP3'].isin(['2HT','2XK','3HA','4V1','4V5','2FW','3FR','3WK', '3C7', '2NP', '2NK', '1GB', '1GC', '3C6', '4VG', '1GD', '5PV',\n",
    "       '2WK', '2FZ', '2FU', '5KK', '5KJ', '1FT', '3AL', '1HS', '1FD', '1NK',\n",
    "       '1M1', '1FV', '1M2', '1NP', '3HS', '1HT', '2HS', '3AK', '4V4', '1XK',\n",
    "       '1XP', '1FU'])==False, 'VIN_GRP3'] = 'OTHER'\n",
    "\n",
    "del df['VIN']\n",
    "del df['POLICY_EFF_DT']\n",
    "\n",
    "# MODEL AGE\n",
    "df['MODEL_AGE'] = df['POLICY_YEAR'] - df['MODEL_YEAR'] + 1\n",
    "\n",
    "# target definition\n",
    "df['TARGET'] = df['CLAIM_COUNT_PAID'] / df['EARNED_EXPOSURES']\n",
    "df['TARGET_BINARY'] = df['CLAIM_COUNT_PAID'].apply(lambda x: 1 if x>0 else 0)\n",
    "\n",
    "df = df[df['POLICY_YEAR']<2022]"
   ]
  },
  {
   "cell_type": "code",
   "execution_count": 0,
   "metadata": {
    "application/vnd.databricks.v1+cell": {
     "inputWidgets": {},
     "nuid": "e896e9a3-55d1-4bf1-9810-ff8492566919",
     "showTitle": false,
     "title": ""
    }
   },
   "outputs": [
    {
     "data": {
      "text/html": [
       "<style scoped>\n",
       "  .ansiout {\n",
       "    display: block;\n",
       "    unicode-bidi: embed;\n",
       "    white-space: pre-wrap;\n",
       "    word-wrap: break-word;\n",
       "    word-break: break-all;\n",
       "    font-family: \"Source Code Pro\", \"Menlo\", monospace;;\n",
       "    font-size: 13px;\n",
       "    color: #555;\n",
       "    margin-left: 4px;\n",
       "    line-height: 19px;\n",
       "  }\n",
       "</style>\n",
       "<div class=\"ansiout\">Out[5]: </div>"
      ]
     },
     "metadata": {
      "application/vnd.databricks.v1+output": {
       "addedWidgets": {},
       "arguments": {},
       "data": "<div class=\"ansiout\">Out[5]: </div>",
       "datasetInfos": [],
       "metadata": {},
       "removedWidgets": [],
       "type": "html"
      }
     },
     "output_type": "display_data"
    },
    {
     "data": {
      "text/html": [
       "<div>\n",
       "<style scoped>\n",
       "    .dataframe tbody tr th:only-of-type {\n",
       "        vertical-align: middle;\n",
       "    }\n",
       "\n",
       "    .dataframe tbody tr th {\n",
       "        vertical-align: top;\n",
       "    }\n",
       "\n",
       "    .dataframe thead th {\n",
       "        text-align: right;\n",
       "    }\n",
       "</style>\n",
       "<table border=\"1\" class=\"dataframe\">\n",
       "  <thead>\n",
       "    <tr style=\"text-align: right;\">\n",
       "      <th></th>\n",
       "      <th>POLICYID</th>\n",
       "      <th>REGION</th>\n",
       "      <th>PKGCOMBO</th>\n",
       "      <th>YRSINBUSCT</th>\n",
       "      <th>VEHICLE_COUNT</th>\n",
       "      <th>CLAIM_COUNT_PAID</th>\n",
       "      <th>EARNED_EXPOSURES</th>\n",
       "    </tr>\n",
       "  </thead>\n",
       "  <tbody>\n",
       "    <tr>\n",
       "      <th>0</th>\n",
       "      <td>CAI0035521</td>\n",
       "      <td>CALIFORNIA</td>\n",
       "      <td>AUTO LIABILITY ONLY</td>\n",
       "      <td>8.0</td>\n",
       "      <td>1.0</td>\n",
       "      <td>0</td>\n",
       "      <td>1.000000</td>\n",
       "    </tr>\n",
       "    <tr>\n",
       "      <th>1</th>\n",
       "      <td>CAI0035877</td>\n",
       "      <td>MIDWEST</td>\n",
       "      <td>AUTO LIABILITY &amp; AUTO PD ONLY</td>\n",
       "      <td>4.0</td>\n",
       "      <td>1.0</td>\n",
       "      <td>0</td>\n",
       "      <td>1.000000</td>\n",
       "    </tr>\n",
       "    <tr>\n",
       "      <th>2</th>\n",
       "      <td>CAI0035879</td>\n",
       "      <td>MIDWEST</td>\n",
       "      <td>AUTO LIABILITY &amp; AUTO PD ONLY</td>\n",
       "      <td>5.0</td>\n",
       "      <td>1.0</td>\n",
       "      <td>0</td>\n",
       "      <td>1.000000</td>\n",
       "    </tr>\n",
       "    <tr>\n",
       "      <th>3</th>\n",
       "      <td>CAI0037101</td>\n",
       "      <td>MIDWEST</td>\n",
       "      <td>AUTO LIABILITY &amp; AUTO PD ONLY</td>\n",
       "      <td>10.0</td>\n",
       "      <td>1.0</td>\n",
       "      <td>0</td>\n",
       "      <td>1.000000</td>\n",
       "    </tr>\n",
       "    <tr>\n",
       "      <th>4</th>\n",
       "      <td>CAI0037151</td>\n",
       "      <td>MIDWEST</td>\n",
       "      <td>AUTO LIABILITY &amp; AUTO PD ONLY</td>\n",
       "      <td>32.0</td>\n",
       "      <td>4.0</td>\n",
       "      <td>0</td>\n",
       "      <td>2.482192</td>\n",
       "    </tr>\n",
       "    <tr>\n",
       "      <th>...</th>\n",
       "      <td>...</td>\n",
       "      <td>...</td>\n",
       "      <td>...</td>\n",
       "      <td>...</td>\n",
       "      <td>...</td>\n",
       "      <td>...</td>\n",
       "      <td>...</td>\n",
       "    </tr>\n",
       "    <tr>\n",
       "      <th>61359</th>\n",
       "      <td>TFO0000074</td>\n",
       "      <td>WEST</td>\n",
       "      <td>AUTO LIABILITY ONLY</td>\n",
       "      <td>10.0</td>\n",
       "      <td>12.0</td>\n",
       "      <td>0</td>\n",
       "      <td>4.339726</td>\n",
       "    </tr>\n",
       "    <tr>\n",
       "      <th>61360</th>\n",
       "      <td>TFO0000075</td>\n",
       "      <td>WEST</td>\n",
       "      <td>AUTO LIAB, AUTO PD &amp; GEN LIAB</td>\n",
       "      <td>7.0</td>\n",
       "      <td>15.0</td>\n",
       "      <td>0</td>\n",
       "      <td>4.778082</td>\n",
       "    </tr>\n",
       "    <tr>\n",
       "      <th>61361</th>\n",
       "      <td>TFS0000002</td>\n",
       "      <td>MIDWEST</td>\n",
       "      <td>AUTO LIABILITY &amp; GENERAL LIAB</td>\n",
       "      <td>23.0</td>\n",
       "      <td>17.0</td>\n",
       "      <td>2</td>\n",
       "      <td>12.632877</td>\n",
       "    </tr>\n",
       "    <tr>\n",
       "      <th>61362</th>\n",
       "      <td>TFS0000008</td>\n",
       "      <td>EAST</td>\n",
       "      <td>AUTO LIABILITY ONLY</td>\n",
       "      <td>5.0</td>\n",
       "      <td>15.0</td>\n",
       "      <td>0</td>\n",
       "      <td>7.726027</td>\n",
       "    </tr>\n",
       "    <tr>\n",
       "      <th>61363</th>\n",
       "      <td>TFS0000014</td>\n",
       "      <td>CALIFORNIA</td>\n",
       "      <td>AUTO LIAB, AUTO PD &amp; GEN LIAB</td>\n",
       "      <td>10.0</td>\n",
       "      <td>29.0</td>\n",
       "      <td>0</td>\n",
       "      <td>10.246575</td>\n",
       "    </tr>\n",
       "  </tbody>\n",
       "</table>\n",
       "<p>61364 rows × 7 columns</p>\n",
       "</div>"
      ]
     },
     "metadata": {
      "application/vnd.databricks.v1+output": {
       "addedWidgets": {},
       "arguments": {},
       "data": "<div>\n<style scoped>\n    .dataframe tbody tr th:only-of-type {\n        vertical-align: middle;\n    }\n\n    .dataframe tbody tr th {\n        vertical-align: top;\n    }\n\n    .dataframe thead th {\n        text-align: right;\n    }\n</style>\n<table border=\"1\" class=\"dataframe\">\n  <thead>\n    <tr style=\"text-align: right;\">\n      <th></th>\n      <th>POLICYID</th>\n      <th>REGION</th>\n      <th>PKGCOMBO</th>\n      <th>YRSINBUSCT</th>\n      <th>VEHICLE_COUNT</th>\n      <th>CLAIM_COUNT_PAID</th>\n      <th>EARNED_EXPOSURES</th>\n    </tr>\n  </thead>\n  <tbody>\n    <tr>\n      <th>0</th>\n      <td>CAI0035521</td>\n      <td>CALIFORNIA</td>\n      <td>AUTO LIABILITY ONLY</td>\n      <td>8.0</td>\n      <td>1.0</td>\n      <td>0</td>\n      <td>1.000000</td>\n    </tr>\n    <tr>\n      <th>1</th>\n      <td>CAI0035877</td>\n      <td>MIDWEST</td>\n      <td>AUTO LIABILITY &amp; AUTO PD ONLY</td>\n      <td>4.0</td>\n      <td>1.0</td>\n      <td>0</td>\n      <td>1.000000</td>\n    </tr>\n    <tr>\n      <th>2</th>\n      <td>CAI0035879</td>\n      <td>MIDWEST</td>\n      <td>AUTO LIABILITY &amp; AUTO PD ONLY</td>\n      <td>5.0</td>\n      <td>1.0</td>\n      <td>0</td>\n      <td>1.000000</td>\n    </tr>\n    <tr>\n      <th>3</th>\n      <td>CAI0037101</td>\n      <td>MIDWEST</td>\n      <td>AUTO LIABILITY &amp; AUTO PD ONLY</td>\n      <td>10.0</td>\n      <td>1.0</td>\n      <td>0</td>\n      <td>1.000000</td>\n    </tr>\n    <tr>\n      <th>4</th>\n      <td>CAI0037151</td>\n      <td>MIDWEST</td>\n      <td>AUTO LIABILITY &amp; AUTO PD ONLY</td>\n      <td>32.0</td>\n      <td>4.0</td>\n      <td>0</td>\n      <td>2.482192</td>\n    </tr>\n    <tr>\n      <th>...</th>\n      <td>...</td>\n      <td>...</td>\n      <td>...</td>\n      <td>...</td>\n      <td>...</td>\n      <td>...</td>\n      <td>...</td>\n    </tr>\n    <tr>\n      <th>61359</th>\n      <td>TFO0000074</td>\n      <td>WEST</td>\n      <td>AUTO LIABILITY ONLY</td>\n      <td>10.0</td>\n      <td>12.0</td>\n      <td>0</td>\n      <td>4.339726</td>\n    </tr>\n    <tr>\n      <th>61360</th>\n      <td>TFO0000075</td>\n      <td>WEST</td>\n      <td>AUTO LIAB, AUTO PD &amp; GEN LIAB</td>\n      <td>7.0</td>\n      <td>15.0</td>\n      <td>0</td>\n      <td>4.778082</td>\n    </tr>\n    <tr>\n      <th>61361</th>\n      <td>TFS0000002</td>\n      <td>MIDWEST</td>\n      <td>AUTO LIABILITY &amp; GENERAL LIAB</td>\n      <td>23.0</td>\n      <td>17.0</td>\n      <td>2</td>\n      <td>12.632877</td>\n    </tr>\n    <tr>\n      <th>61362</th>\n      <td>TFS0000008</td>\n      <td>EAST</td>\n      <td>AUTO LIABILITY ONLY</td>\n      <td>5.0</td>\n      <td>15.0</td>\n      <td>0</td>\n      <td>7.726027</td>\n    </tr>\n    <tr>\n      <th>61363</th>\n      <td>TFS0000014</td>\n      <td>CALIFORNIA</td>\n      <td>AUTO LIAB, AUTO PD &amp; GEN LIAB</td>\n      <td>10.0</td>\n      <td>29.0</td>\n      <td>0</td>\n      <td>10.246575</td>\n    </tr>\n  </tbody>\n</table>\n<p>61364 rows × 7 columns</p>\n</div>",
       "datasetInfos": [],
       "metadata": {},
       "removedWidgets": [],
       "textData": null,
       "type": "htmlSandbox"
      }
     },
     "output_type": "display_data"
    }
   ],
   "source": [
    "# features for clastering\n",
    "# POLICYSTATE, PKGCOMBO, YRSINBUSCT, VEHICLE_COUNT\n",
    "#features = ['POLICYSTATE', 'PKGCOMBO', 'YRSINBUSCT', 'VEHICLE_COUNT']\n",
    "features = ['POLICYID','REGION', 'PKGCOMBO', 'YRSINBUSCT', 'VEHICLE_COUNT']\n",
    "\n",
    "# df on policy level\n",
    "tmp = df.groupby('POLICYID').agg({'POLICYID': np.max,'REGION': np.max, 'PKGCOMBO': np.max, 'YRSINBUSCT': np.max, 'VEHICLE_COUNT': np.max, 'CLAIM_COUNT_PAID': np.sum, 'EARNED_EXPOSURES': np.sum})\n",
    "\n",
    "tmp.columns = ['POLICYID','REGION', 'PKGCOMBO', 'YRSINBUSCT', 'VEHICLE_COUNT', 'CLAIM_COUNT_PAID', 'EARNED_EXPOSURES']\n",
    "\n",
    "tmp = tmp.reset_index(drop=True)\n",
    "tmp"
   ]
  },
  {
   "cell_type": "code",
   "execution_count": 0,
   "metadata": {
    "application/vnd.databricks.v1+cell": {
     "inputWidgets": {},
     "nuid": "17801c5b-f57d-4b65-9be4-89ad2b217592",
     "showTitle": false,
     "title": ""
    }
   },
   "outputs": [
    {
     "data": {
      "text/html": [
       "<style scoped>\n",
       "  .ansiout {\n",
       "    display: block;\n",
       "    unicode-bidi: embed;\n",
       "    white-space: pre-wrap;\n",
       "    word-wrap: break-word;\n",
       "    word-break: break-all;\n",
       "    font-family: \"Source Code Pro\", \"Menlo\", monospace;;\n",
       "    font-size: 13px;\n",
       "    color: #555;\n",
       "    margin-left: 4px;\n",
       "    line-height: 19px;\n",
       "  }\n",
       "</style>\n",
       "<div class=\"ansiout\"></div>"
      ]
     },
     "metadata": {
      "application/vnd.databricks.v1+output": {
       "addedWidgets": {},
       "arguments": {},
       "data": "<div class=\"ansiout\"></div>",
       "datasetInfos": [],
       "metadata": {},
       "removedWidgets": [],
       "type": "html"
      }
     },
     "output_type": "display_data"
    }
   ],
   "source": [
    "# categories to dummy\n",
    "tmp[features].isnull().sum()\n",
    "\n",
    "tmp[features] = tmp[features].fillna(-1)\n",
    "cluster_df = tmp[features]\n",
    "\n",
    "cluster_df = pd.get_dummies(cluster_df, columns = ['REGION', 'PKGCOMBO'])\n",
    "\n",
    "cluster_df = cluster_df.reset_index(drop = True)\n",
    "cluster_df\n",
    "\n",
    "# normalazing VEHICLE_COUNT and YRSINBUSCT\n",
    "from sklearn.preprocessing import normalize\n",
    "\n",
    "cluster_df[['YRSINBUSCT','VEHICLE_COUNT']] = normalize(cluster_df[['YRSINBUSCT','VEHICLE_COUNT']], norm='max')\n",
    "\n",
    "cluster_df\n",
    "\n",
    "del cluster_df['POLICYID']"
   ]
  },
  {
   "cell_type": "code",
   "execution_count": 0,
   "metadata": {
    "application/vnd.databricks.v1+cell": {
     "inputWidgets": {},
     "nuid": "8724345e-4538-4423-9122-a5bcf370a7b1",
     "showTitle": false,
     "title": ""
    }
   },
   "outputs": [
    {
     "data": {
      "text/html": [
       "<style scoped>\n",
       "  .ansiout {\n",
       "    display: block;\n",
       "    unicode-bidi: embed;\n",
       "    white-space: pre-wrap;\n",
       "    word-wrap: break-word;\n",
       "    word-break: break-all;\n",
       "    font-family: \"Source Code Pro\", \"Menlo\", monospace;;\n",
       "    font-size: 13px;\n",
       "    color: #555;\n",
       "    margin-left: 4px;\n",
       "    line-height: 19px;\n",
       "  }\n",
       "</style>\n",
       "<div class=\"ansiout\"></div>"
      ]
     },
     "metadata": {
      "application/vnd.databricks.v1+output": {
       "addedWidgets": {},
       "arguments": {},
       "data": "<div class=\"ansiout\"></div>",
       "datasetInfos": [],
       "metadata": {},
       "removedWidgets": [],
       "type": "html"
      }
     },
     "output_type": "display_data"
    }
   ],
   "source": [
    "import hdbscan"
   ]
  },
  {
   "cell_type": "code",
   "execution_count": 0,
   "metadata": {
    "application/vnd.databricks.v1+cell": {
     "inputWidgets": {},
     "nuid": "49a08a99-8e08-4048-a10b-3e978e6bfe70",
     "showTitle": false,
     "title": ""
    }
   },
   "outputs": [
    {
     "data": {
      "text/html": [
       "<style scoped>\n",
       "  .ansiout {\n",
       "    display: block;\n",
       "    unicode-bidi: embed;\n",
       "    white-space: pre-wrap;\n",
       "    word-wrap: break-word;\n",
       "    word-break: break-all;\n",
       "    font-family: \"Source Code Pro\", \"Menlo\", monospace;;\n",
       "    font-size: 13px;\n",
       "    color: #555;\n",
       "    margin-left: 4px;\n",
       "    line-height: 19px;\n",
       "  }\n",
       "</style>\n",
       "<div class=\"ansiout\"></div>"
      ]
     },
     "metadata": {
      "application/vnd.databricks.v1+output": {
       "addedWidgets": {},
       "arguments": {},
       "data": "<div class=\"ansiout\"></div>",
       "datasetInfos": [],
       "metadata": {},
       "removedWidgets": [],
       "type": "html"
      }
     },
     "output_type": "display_data"
    }
   ],
   "source": [
    "import umap"
   ]
  },
  {
   "cell_type": "code",
   "execution_count": 0,
   "metadata": {
    "application/vnd.databricks.v1+cell": {
     "inputWidgets": {},
     "nuid": "ca306ab4-0181-4aee-b67b-7ee008f1b622",
     "showTitle": false,
     "title": ""
    }
   },
   "outputs": [
    {
     "data": {
      "text/html": [
       "<style scoped>\n",
       "  .ansiout {\n",
       "    display: block;\n",
       "    unicode-bidi: embed;\n",
       "    white-space: pre-wrap;\n",
       "    word-wrap: break-word;\n",
       "    word-break: break-all;\n",
       "    font-family: \"Source Code Pro\", \"Menlo\", monospace;;\n",
       "    font-size: 13px;\n",
       "    color: #555;\n",
       "    margin-left: 4px;\n",
       "    line-height: 19px;\n",
       "  }\n",
       "</style>\n",
       "<div class=\"ansiout\">Out[9]: (61364, 21)</div>"
      ]
     },
     "metadata": {
      "application/vnd.databricks.v1+output": {
       "addedWidgets": {},
       "arguments": {},
       "data": "<div class=\"ansiout\">Out[9]: (61364, 21)</div>",
       "datasetInfos": [],
       "metadata": {},
       "removedWidgets": [],
       "type": "html"
      }
     },
     "output_type": "display_data"
    }
   ],
   "source": [
    "cluster_df.shape"
   ]
  },
  {
   "cell_type": "code",
   "execution_count": 0,
   "metadata": {
    "application/vnd.databricks.v1+cell": {
     "inputWidgets": {},
     "nuid": "1aa0cf00-025e-4f4a-8aaf-791e740b97b5",
     "showTitle": false,
     "title": ""
    }
   },
   "outputs": [
    {
     "data": {
      "text/html": [
       "<style scoped>\n",
       "  .ansiout {\n",
       "    display: block;\n",
       "    unicode-bidi: embed;\n",
       "    white-space: pre-wrap;\n",
       "    word-wrap: break-word;\n",
       "    word-break: break-all;\n",
       "    font-family: \"Source Code Pro\", \"Menlo\", monospace;;\n",
       "    font-size: 13px;\n",
       "    color: #555;\n",
       "    margin-left: 4px;\n",
       "    line-height: 19px;\n",
       "  }\n",
       "</style>\n",
       "<div class=\"ansiout\">Out[10]: array([ 7, 13, 13, ..., -1,  2, -1])</div>"
      ]
     },
     "metadata": {
      "application/vnd.databricks.v1+output": {
       "addedWidgets": {},
       "arguments": {},
       "data": "<div class=\"ansiout\">Out[10]: array([ 7, 13, 13, ..., -1,  2, -1])</div>",
       "datasetInfos": [],
       "metadata": {},
       "removedWidgets": [],
       "type": "html"
      }
     },
     "output_type": "display_data"
    }
   ],
   "source": [
    "cluster = hdbscan.HDBSCAN(min_samples=10,min_cluster_size=500)\n",
    "cluster.fit_predict(cluster_df)"
   ]
  },
  {
   "cell_type": "code",
   "execution_count": 0,
   "metadata": {
    "application/vnd.databricks.v1+cell": {
     "inputWidgets": {},
     "nuid": "e94253c8-85e5-44b2-9e4d-be7d140c1aea",
     "showTitle": false,
     "title": ""
    }
   },
   "outputs": [
    {
     "data": {
      "text/html": [
       "<style scoped>\n",
       "  .ansiout {\n",
       "    display: block;\n",
       "    unicode-bidi: embed;\n",
       "    white-space: pre-wrap;\n",
       "    word-wrap: break-word;\n",
       "    word-break: break-all;\n",
       "    font-family: \"Source Code Pro\", \"Menlo\", monospace;;\n",
       "    font-size: 13px;\n",
       "    color: #555;\n",
       "    margin-left: 4px;\n",
       "    line-height: 19px;\n",
       "  }\n",
       "</style>\n",
       "<div class=\"ansiout\">Out[11]: 34</div>"
      ]
     },
     "metadata": {
      "application/vnd.databricks.v1+output": {
       "addedWidgets": {},
       "arguments": {},
       "data": "<div class=\"ansiout\">Out[11]: 34</div>",
       "datasetInfos": [],
       "metadata": {},
       "removedWidgets": [],
       "type": "html"
      }
     },
     "output_type": "display_data"
    }
   ],
   "source": [
    "#With default HDBScan parameters we got 2086 clusters.\n",
    "#With above parameters we got 34 clusters.\n",
    "cluster.labels_.max()"
   ]
  },
  {
   "cell_type": "code",
   "execution_count": 0,
   "metadata": {
    "application/vnd.databricks.v1+cell": {
     "inputWidgets": {},
     "nuid": "2e1a48d6-3a95-411e-a623-3db68e3b921c",
     "showTitle": false,
     "title": ""
    }
   },
   "outputs": [
    {
     "data": {
      "text/html": [
       "<style scoped>\n",
       "  .ansiout {\n",
       "    display: block;\n",
       "    unicode-bidi: embed;\n",
       "    white-space: pre-wrap;\n",
       "    word-wrap: break-word;\n",
       "    word-break: break-all;\n",
       "    font-family: \"Source Code Pro\", \"Menlo\", monospace;;\n",
       "    font-size: 13px;\n",
       "    color: #555;\n",
       "    margin-left: 4px;\n",
       "    line-height: 19px;\n",
       "  }\n",
       "</style>\n",
       "<div class=\"ansiout\"></div>"
      ]
     },
     "metadata": {
      "application/vnd.databricks.v1+output": {
       "addedWidgets": {},
       "arguments": {},
       "data": "<div class=\"ansiout\"></div>",
       "datasetInfos": [],
       "metadata": {},
       "removedWidgets": [],
       "type": "html"
      }
     },
     "output_type": "display_data"
    }
   ],
   "source": [
    "labels = cluster.labels_"
   ]
  },
  {
   "cell_type": "code",
   "execution_count": 0,
   "metadata": {
    "application/vnd.databricks.v1+cell": {
     "inputWidgets": {},
     "nuid": "e8254478-e197-4562-b3c0-ddf65d609ae4",
     "showTitle": false,
     "title": ""
    }
   },
   "outputs": [
    {
     "data": {
      "text/html": [
       "<style scoped>\n",
       "  .ansiout {\n",
       "    display: block;\n",
       "    unicode-bidi: embed;\n",
       "    white-space: pre-wrap;\n",
       "    word-wrap: break-word;\n",
       "    word-break: break-all;\n",
       "    font-family: \"Source Code Pro\", \"Menlo\", monospace;;\n",
       "    font-size: 13px;\n",
       "    color: #555;\n",
       "    margin-left: 4px;\n",
       "    line-height: 19px;\n",
       "  }\n",
       "</style>\n",
       "<div class=\"ansiout\">Out[13]: -1</div>"
      ]
     },
     "metadata": {
      "application/vnd.databricks.v1+output": {
       "addedWidgets": {},
       "arguments": {},
       "data": "<div class=\"ansiout\">Out[13]: -1</div>",
       "datasetInfos": [],
       "metadata": {},
       "removedWidgets": [],
       "type": "html"
      }
     },
     "output_type": "display_data"
    }
   ],
   "source": [
    "labels.min()"
   ]
  },
  {
   "cell_type": "code",
   "execution_count": 0,
   "metadata": {
    "application/vnd.databricks.v1+cell": {
     "inputWidgets": {},
     "nuid": "c2934a23-ba0c-454d-88a5-26363674451a",
     "showTitle": false,
     "title": ""
    }
   },
   "outputs": [
    {
     "data": {
      "text/html": [
       "<style scoped>\n",
       "  .ansiout {\n",
       "    display: block;\n",
       "    unicode-bidi: embed;\n",
       "    white-space: pre-wrap;\n",
       "    word-wrap: break-word;\n",
       "    word-break: break-all;\n",
       "    font-family: \"Source Code Pro\", \"Menlo\", monospace;;\n",
       "    font-size: 13px;\n",
       "    color: #555;\n",
       "    margin-left: 4px;\n",
       "    line-height: 19px;\n",
       "  }\n",
       "</style>\n",
       "<div class=\"ansiout\"></div>"
      ]
     },
     "metadata": {
      "application/vnd.databricks.v1+output": {
       "addedWidgets": {},
       "arguments": {},
       "data": "<div class=\"ansiout\"></div>",
       "datasetInfos": [],
       "metadata": {},
       "removedWidgets": [],
       "type": "html"
      }
     },
     "output_type": "display_data"
    }
   ],
   "source": [
    "tmp['CLUSTER_ID'] = labels"
   ]
  },
  {
   "cell_type": "code",
   "execution_count": 0,
   "metadata": {
    "application/vnd.databricks.v1+cell": {
     "inputWidgets": {},
     "nuid": "ba27640c-50a4-4808-8337-1ef27492deac",
     "showTitle": false,
     "title": ""
    }
   },
   "outputs": [
    {
     "data": {
      "text/html": [
       "<style scoped>\n",
       "  .ansiout {\n",
       "    display: block;\n",
       "    unicode-bidi: embed;\n",
       "    white-space: pre-wrap;\n",
       "    word-wrap: break-word;\n",
       "    word-break: break-all;\n",
       "    font-family: \"Source Code Pro\", \"Menlo\", monospace;;\n",
       "    font-size: 13px;\n",
       "    color: #555;\n",
       "    margin-left: 4px;\n",
       "    line-height: 19px;\n",
       "  }\n",
       "</style>\n",
       "<div class=\"ansiout\">Out[15]: (61364, 8)</div>"
      ]
     },
     "metadata": {
      "application/vnd.databricks.v1+output": {
       "addedWidgets": {},
       "arguments": {},
       "data": "<div class=\"ansiout\">Out[15]: (61364, 8)</div>",
       "datasetInfos": [],
       "metadata": {},
       "removedWidgets": [],
       "type": "html"
      }
     },
     "output_type": "display_data"
    }
   ],
   "source": [
    "tmp.shape"
   ]
  },
  {
   "cell_type": "code",
   "execution_count": 0,
   "metadata": {
    "application/vnd.databricks.v1+cell": {
     "inputWidgets": {},
     "nuid": "bcd71007-c36c-41a2-8584-31cc5249fb31",
     "showTitle": false,
     "title": ""
    }
   },
   "outputs": [
    {
     "data": {
      "text/html": [
       "<style scoped>\n",
       "  .ansiout {\n",
       "    display: block;\n",
       "    unicode-bidi: embed;\n",
       "    white-space: pre-wrap;\n",
       "    word-wrap: break-word;\n",
       "    word-break: break-all;\n",
       "    font-family: \"Source Code Pro\", \"Menlo\", monospace;;\n",
       "    font-size: 13px;\n",
       "    color: #555;\n",
       "    margin-left: 4px;\n",
       "    line-height: 19px;\n",
       "  }\n",
       "</style>\n",
       "<div class=\"ansiout\">Out[16]: </div>"
      ]
     },
     "metadata": {
      "application/vnd.databricks.v1+output": {
       "addedWidgets": {},
       "arguments": {},
       "data": "<div class=\"ansiout\">Out[16]: </div>",
       "datasetInfos": [],
       "metadata": {},
       "removedWidgets": [],
       "type": "html"
      }
     },
     "output_type": "display_data"
    },
    {
     "data": {
      "text/html": [
       "<div>\n",
       "<style scoped>\n",
       "    .dataframe tbody tr th:only-of-type {\n",
       "        vertical-align: middle;\n",
       "    }\n",
       "\n",
       "    .dataframe tbody tr th {\n",
       "        vertical-align: top;\n",
       "    }\n",
       "\n",
       "    .dataframe thead th {\n",
       "        text-align: right;\n",
       "    }\n",
       "</style>\n",
       "<table border=\"1\" class=\"dataframe\">\n",
       "  <thead>\n",
       "    <tr style=\"text-align: right;\">\n",
       "      <th></th>\n",
       "      <th>POLICYID</th>\n",
       "      <th>REGION</th>\n",
       "      <th>PKGCOMBO</th>\n",
       "      <th>YRSINBUSCT</th>\n",
       "      <th>VEHICLE_COUNT</th>\n",
       "      <th>CLAIM_COUNT_PAID</th>\n",
       "      <th>EARNED_EXPOSURES</th>\n",
       "      <th>CLUSTER_ID</th>\n",
       "    </tr>\n",
       "  </thead>\n",
       "  <tbody>\n",
       "    <tr>\n",
       "      <th>0</th>\n",
       "      <td>CAI0035521</td>\n",
       "      <td>CALIFORNIA</td>\n",
       "      <td>AUTO LIABILITY ONLY</td>\n",
       "      <td>8.0</td>\n",
       "      <td>1.0</td>\n",
       "      <td>0</td>\n",
       "      <td>1.0</td>\n",
       "      <td>7</td>\n",
       "    </tr>\n",
       "    <tr>\n",
       "      <th>1</th>\n",
       "      <td>CAI0035877</td>\n",
       "      <td>MIDWEST</td>\n",
       "      <td>AUTO LIABILITY &amp; AUTO PD ONLY</td>\n",
       "      <td>4.0</td>\n",
       "      <td>1.0</td>\n",
       "      <td>0</td>\n",
       "      <td>1.0</td>\n",
       "      <td>13</td>\n",
       "    </tr>\n",
       "  </tbody>\n",
       "</table>\n",
       "</div>"
      ]
     },
     "metadata": {
      "application/vnd.databricks.v1+output": {
       "addedWidgets": {},
       "arguments": {},
       "data": "<div>\n<style scoped>\n    .dataframe tbody tr th:only-of-type {\n        vertical-align: middle;\n    }\n\n    .dataframe tbody tr th {\n        vertical-align: top;\n    }\n\n    .dataframe thead th {\n        text-align: right;\n    }\n</style>\n<table border=\"1\" class=\"dataframe\">\n  <thead>\n    <tr style=\"text-align: right;\">\n      <th></th>\n      <th>POLICYID</th>\n      <th>REGION</th>\n      <th>PKGCOMBO</th>\n      <th>YRSINBUSCT</th>\n      <th>VEHICLE_COUNT</th>\n      <th>CLAIM_COUNT_PAID</th>\n      <th>EARNED_EXPOSURES</th>\n      <th>CLUSTER_ID</th>\n    </tr>\n  </thead>\n  <tbody>\n    <tr>\n      <th>0</th>\n      <td>CAI0035521</td>\n      <td>CALIFORNIA</td>\n      <td>AUTO LIABILITY ONLY</td>\n      <td>8.0</td>\n      <td>1.0</td>\n      <td>0</td>\n      <td>1.0</td>\n      <td>7</td>\n    </tr>\n    <tr>\n      <th>1</th>\n      <td>CAI0035877</td>\n      <td>MIDWEST</td>\n      <td>AUTO LIABILITY &amp; AUTO PD ONLY</td>\n      <td>4.0</td>\n      <td>1.0</td>\n      <td>0</td>\n      <td>1.0</td>\n      <td>13</td>\n    </tr>\n  </tbody>\n</table>\n</div>",
       "datasetInfos": [],
       "metadata": {},
       "removedWidgets": [],
       "textData": null,
       "type": "htmlSandbox"
      }
     },
     "output_type": "display_data"
    }
   ],
   "source": [
    "tmp.head(2)"
   ]
  },
  {
   "cell_type": "code",
   "execution_count": 0,
   "metadata": {
    "application/vnd.databricks.v1+cell": {
     "inputWidgets": {},
     "nuid": "b59889e3-da37-49e8-829e-3a2f5fa69828",
     "showTitle": false,
     "title": ""
    }
   },
   "outputs": [
    {
     "data": {
      "image/png": "[encoded data removed]"
     },
     "metadata": {
      "application/vnd.databricks.v1+output": {
       "addedWidgets": {},
       "arguments": {},
       "data": "data:image/png;base64,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",
       "datasetInfos": [],
       "metadata": {
        "imageDimensions": {
         "height": 262,
         "width": 390
        }
       },
       "removedWidgets": [],
       "type": "image"
      },
      "image/png": {
       "height": 262,
       "width": 390
      }
     },
     "output_type": "display_data"
    }
   ],
   "source": [
    "sns.scatterplot(x=tmp['YRSINBUSCT'], y=tmp['VEHICLE_COUNT'],data=tmp,hue=tmp['CLUSTER_ID'])\n",
    "plt.show()"
   ]
  },
  {
   "cell_type": "code",
   "execution_count": 0,
   "metadata": {
    "application/vnd.databricks.v1+cell": {
     "inputWidgets": {},
     "nuid": "b87c78cf-9ec5-47e7-82da-deefafd61401",
     "showTitle": false,
     "title": ""
    }
   },
   "outputs": [
    {
     "data": {
      "text/html": [
       "<style scoped>\n",
       "  .ansiout {\n",
       "    display: block;\n",
       "    unicode-bidi: embed;\n",
       "    white-space: pre-wrap;\n",
       "    word-wrap: break-word;\n",
       "    word-break: break-all;\n",
       "    font-family: \"Source Code Pro\", \"Menlo\", monospace;;\n",
       "    font-size: 13px;\n",
       "    color: #555;\n",
       "    margin-left: 4px;\n",
       "    line-height: 19px;\n",
       "  }\n",
       "</style>\n",
       "<div class=\"ansiout\"></div>"
      ]
     },
     "metadata": {
      "application/vnd.databricks.v1+output": {
       "addedWidgets": {},
       "arguments": {},
       "data": "<div class=\"ansiout\"></div>",
       "datasetInfos": [],
       "metadata": {},
       "removedWidgets": [],
       "type": "html"
      }
     },
     "output_type": "display_data"
    }
   ],
   "source": [
    "#Applying T-SNE\n",
    "from sklearn.manifold import TSNE\n",
    "\n",
    "tsne_features = TSNE().fit_transform(cluster_df)\n",
    "\n"
   ]
  },
  {
   "cell_type": "code",
   "execution_count": 0,
   "metadata": {
    "application/vnd.databricks.v1+cell": {
     "inputWidgets": {},
     "nuid": "cd73cd13-2933-4dbf-b39c-9103491fb53f",
     "showTitle": false,
     "title": ""
    }
   },
   "outputs": [
    {
     "data": {
      "text/html": [
       "<style scoped>\n",
       "  .ansiout {\n",
       "    display: block;\n",
       "    unicode-bidi: embed;\n",
       "    white-space: pre-wrap;\n",
       "    word-wrap: break-word;\n",
       "    word-break: break-all;\n",
       "    font-family: \"Source Code Pro\", \"Menlo\", monospace;;\n",
       "    font-size: 13px;\n",
       "    color: #555;\n",
       "    margin-left: 4px;\n",
       "    line-height: 19px;\n",
       "  }\n",
       "</style>\n",
       "<div class=\"ansiout\">Out[19]: array([10, 12, 12, ..., 12,  3, -1])</div>"
      ]
     },
     "metadata": {
      "application/vnd.databricks.v1+output": {
       "addedWidgets": {},
       "arguments": {},
       "data": "<div class=\"ansiout\">Out[19]: array([10, 12, 12, ..., 12,  3, -1])</div>",
       "datasetInfos": [],
       "metadata": {},
       "removedWidgets": [],
       "type": "html"
      }
     },
     "output_type": "display_data"
    }
   ],
   "source": [
    "#cluster_tsne = hdbscan.HDBSCAN(min_samples=10,min_cluster_size=625)\n",
    "cluster_tsne = hdbscan.HDBSCAN(min_samples=10,min_cluster_size=625,cluster_selection_epsilon=4.0)\n",
    "#cluster_tsne = hdbscan.HDBSCAN(min_samples=10,min_cluster_size=625)\n",
    "cluster_tsne.fit_predict(tsne_features)"
   ]
  },
  {
   "cell_type": "code",
   "execution_count": 0,
   "metadata": {
    "application/vnd.databricks.v1+cell": {
     "inputWidgets": {},
     "nuid": "d1db68e4-f06d-49ae-85fe-dd85eb5914a8",
     "showTitle": false,
     "title": ""
    }
   },
   "outputs": [
    {
     "data": {
      "text/html": [
       "<style scoped>\n",
       "  .ansiout {\n",
       "    display: block;\n",
       "    unicode-bidi: embed;\n",
       "    white-space: pre-wrap;\n",
       "    word-wrap: break-word;\n",
       "    word-break: break-all;\n",
       "    font-family: \"Source Code Pro\", \"Menlo\", monospace;;\n",
       "    font-size: 13px;\n",
       "    color: #555;\n",
       "    margin-left: 4px;\n",
       "    line-height: 19px;\n",
       "  }\n",
       "</style>\n",
       "<div class=\"ansiout\">13\n",
       "61364\n",
       "-1\n",
       "</div>"
      ]
     },
     "metadata": {
      "application/vnd.databricks.v1+output": {
       "addedWidgets": {},
       "arguments": {},
       "data": "<div class=\"ansiout\">13\n61364\n-1\n</div>",
       "datasetInfos": [],
       "metadata": {},
       "removedWidgets": [],
       "type": "html"
      }
     },
     "output_type": "display_data"
    }
   ],
   "source": [
    "print(cluster_tsne.labels_.max())\n",
    "print(len(cluster_tsne.labels_))\n",
    "print(cluster_tsne.labels_.min())\n",
    "labels_tsne = cluster_tsne.labels_"
   ]
  },
  {
   "cell_type": "code",
   "execution_count": 0,
   "metadata": {
    "application/vnd.databricks.v1+cell": {
     "inputWidgets": {},
     "nuid": "c24b1d98-f29b-468d-a5b3-bfc302438752",
     "showTitle": false,
     "title": ""
    }
   },
   "outputs": [
    {
     "data": {
      "text/html": [
       "<style scoped>\n",
       "  .ansiout {\n",
       "    display: block;\n",
       "    unicode-bidi: embed;\n",
       "    white-space: pre-wrap;\n",
       "    word-wrap: break-word;\n",
       "    word-break: break-all;\n",
       "    font-family: \"Source Code Pro\", \"Menlo\", monospace;;\n",
       "    font-size: 13px;\n",
       "    color: #555;\n",
       "    margin-left: 4px;\n",
       "    line-height: 19px;\n",
       "  }\n",
       "</style>\n",
       "<div class=\"ansiout\">45883\n",
       "15481\n",
       "61364\n",
       "</div>"
      ]
     },
     "metadata": {
      "application/vnd.databricks.v1+output": {
       "addedWidgets": {},
       "arguments": {},
       "data": "<div class=\"ansiout\">45883\n15481\n61364\n</div>",
       "datasetInfos": [],
       "metadata": {},
       "removedWidgets": [],
       "type": "html"
      }
     },
     "output_type": "display_data"
    },
    {
     "data": {
      "image/png": "[encoded data removed]"
     },
     "metadata": {
      "application/vnd.databricks.v1+output": {
       "addedWidgets": {},
       "arguments": {},
       "data": "data:image/png;base64,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",
       "datasetInfos": [],
       "metadata": {
        "imageDimensions": {
         "height": 575,
         "width": 882
        }
       },
       "removedWidgets": [],
       "type": "image"
      },
      "image/png": {
       "height": 575,
       "width": 882
      }
     },
     "output_type": "display_data"
    }
   ],
   "source": [
    "clustered = (labels_tsne >= 0)\n",
    "print(len(tsne_features[clustered]))\n",
    "print(len(tsne_features[~clustered]))\n",
    "print(len(clustered))\n",
    "plt.figure(figsize=(15,10))\n",
    "plt.scatter(tsne_features[~clustered, 0],\n",
    "            tsne_features[~clustered, 1],\n",
    "            color=(0.5, 0.5, 0.5),\n",
    "            s=0.1,\n",
    "            alpha=0.5)\n",
    "plt.scatter(tsne_features[clustered, 0],\n",
    "            tsne_features[clustered, 1],\n",
    "            c=labels_tsne[clustered],\n",
    "            s=0.1,\n",
    "            #cmap='Spectral'\n",
    "           );"
   ]
  },
  {
   "cell_type": "code",
   "execution_count": 0,
   "metadata": {
    "application/vnd.databricks.v1+cell": {
     "inputWidgets": {},
     "nuid": "7ce3f3be-7b69-4882-8ad3-c18389e961e7",
     "showTitle": false,
     "title": ""
    }
   },
   "outputs": [
    {
     "data": {
      "text/html": [
       "<style scoped>\n",
       "  .ansiout {\n",
       "    display: block;\n",
       "    unicode-bidi: embed;\n",
       "    white-space: pre-wrap;\n",
       "    word-wrap: break-word;\n",
       "    word-break: break-all;\n",
       "    font-family: \"Source Code Pro\", \"Menlo\", monospace;;\n",
       "    font-size: 13px;\n",
       "    color: #555;\n",
       "    margin-left: 4px;\n",
       "    line-height: 19px;\n",
       "  }\n",
       "</style>\n",
       "<div class=\"ansiout\">Out[22]: </div>"
      ]
     },
     "metadata": {
      "application/vnd.databricks.v1+output": {
       "addedWidgets": {},
       "arguments": {},
       "data": "<div class=\"ansiout\">Out[22]: </div>",
       "datasetInfos": [],
       "metadata": {},
       "removedWidgets": [],
       "type": "html"
      }
     },
     "output_type": "display_data"
    },
    {
     "data": {
      "text/html": [
       "<div>\n",
       "<style scoped>\n",
       "    .dataframe tbody tr th:only-of-type {\n",
       "        vertical-align: middle;\n",
       "    }\n",
       "\n",
       "    .dataframe tbody tr th {\n",
       "        vertical-align: top;\n",
       "    }\n",
       "\n",
       "    .dataframe thead th {\n",
       "        text-align: right;\n",
       "    }\n",
       "</style>\n",
       "<table border=\"1\" class=\"dataframe\">\n",
       "  <thead>\n",
       "    <tr style=\"text-align: right;\">\n",
       "      <th></th>\n",
       "      <th>CLAIM_COUNT_PAID</th>\n",
       "      <th>EARNED_EXPOSURES</th>\n",
       "      <th>POLICYID</th>\n",
       "      <th>VEHICLE_COUNT</th>\n",
       "      <th>YRSINBUSCT</th>\n",
       "      <th>CLAIMS_RATE</th>\n",
       "      <th>CLAIMS_EXPOSURES</th>\n",
       "    </tr>\n",
       "    <tr>\n",
       "      <th>CLUSTER_ID</th>\n",
       "      <th></th>\n",
       "      <th></th>\n",
       "      <th></th>\n",
       "      <th></th>\n",
       "      <th></th>\n",
       "      <th></th>\n",
       "      <th></th>\n",
       "    </tr>\n",
       "  </thead>\n",
       "  <tbody>\n",
       "    <tr>\n",
       "      <th>-1</th>\n",
       "      <td>2700</td>\n",
       "      <td>33837.051035</td>\n",
       "      <td>15481</td>\n",
       "      <td>2.910342</td>\n",
       "      <td>9.164976</td>\n",
       "      <td>0.174407</td>\n",
       "      <td>0.079794</td>\n",
       "    </tr>\n",
       "    <tr>\n",
       "      <th>0</th>\n",
       "      <td>528</td>\n",
       "      <td>6155.177521</td>\n",
       "      <td>2587</td>\n",
       "      <td>3.522227</td>\n",
       "      <td>7.957480</td>\n",
       "      <td>0.204097</td>\n",
       "      <td>0.085781</td>\n",
       "    </tr>\n",
       "    <tr>\n",
       "      <th>1</th>\n",
       "      <td>380</td>\n",
       "      <td>5417.966116</td>\n",
       "      <td>3414</td>\n",
       "      <td>1.969537</td>\n",
       "      <td>12.487991</td>\n",
       "      <td>0.111306</td>\n",
       "      <td>0.070137</td>\n",
       "    </tr>\n",
       "    <tr>\n",
       "      <th>2</th>\n",
       "      <td>237</td>\n",
       "      <td>2534.829679</td>\n",
       "      <td>745</td>\n",
       "      <td>4.810738</td>\n",
       "      <td>6.801342</td>\n",
       "      <td>0.318121</td>\n",
       "      <td>0.093497</td>\n",
       "    </tr>\n",
       "    <tr>\n",
       "      <th>3</th>\n",
       "      <td>677</td>\n",
       "      <td>8700.665917</td>\n",
       "      <td>2657</td>\n",
       "      <td>4.467068</td>\n",
       "      <td>8.598043</td>\n",
       "      <td>0.254799</td>\n",
       "      <td>0.077810</td>\n",
       "    </tr>\n",
       "    <tr>\n",
       "      <th>4</th>\n",
       "      <td>156</td>\n",
       "      <td>2049.563202</td>\n",
       "      <td>757</td>\n",
       "      <td>3.495376</td>\n",
       "      <td>9.141347</td>\n",
       "      <td>0.206077</td>\n",
       "      <td>0.076114</td>\n",
       "    </tr>\n",
       "    <tr>\n",
       "      <th>5</th>\n",
       "      <td>227</td>\n",
       "      <td>3036.269037</td>\n",
       "      <td>1126</td>\n",
       "      <td>3.692718</td>\n",
       "      <td>6.700710</td>\n",
       "      <td>0.201599</td>\n",
       "      <td>0.074763</td>\n",
       "    </tr>\n",
       "    <tr>\n",
       "      <th>6</th>\n",
       "      <td>155</td>\n",
       "      <td>1779.957413</td>\n",
       "      <td>705</td>\n",
       "      <td>3.706383</td>\n",
       "      <td>12.503546</td>\n",
       "      <td>0.219858</td>\n",
       "      <td>0.087081</td>\n",
       "    </tr>\n",
       "    <tr>\n",
       "      <th>7</th>\n",
       "      <td>478</td>\n",
       "      <td>5039.112107</td>\n",
       "      <td>2134</td>\n",
       "      <td>3.367385</td>\n",
       "      <td>7.860825</td>\n",
       "      <td>0.223993</td>\n",
       "      <td>0.094858</td>\n",
       "    </tr>\n",
       "    <tr>\n",
       "      <th>8</th>\n",
       "      <td>189</td>\n",
       "      <td>2636.378037</td>\n",
       "      <td>939</td>\n",
       "      <td>4.029819</td>\n",
       "      <td>8.707135</td>\n",
       "      <td>0.201278</td>\n",
       "      <td>0.071689</td>\n",
       "    </tr>\n",
       "    <tr>\n",
       "      <th>9</th>\n",
       "      <td>386</td>\n",
       "      <td>4882.593378</td>\n",
       "      <td>1648</td>\n",
       "      <td>4.373180</td>\n",
       "      <td>8.301578</td>\n",
       "      <td>0.234223</td>\n",
       "      <td>0.079056</td>\n",
       "    </tr>\n",
       "    <tr>\n",
       "      <th>10</th>\n",
       "      <td>1820</td>\n",
       "      <td>22220.522644</td>\n",
       "      <td>11028</td>\n",
       "      <td>2.615705</td>\n",
       "      <td>8.215996</td>\n",
       "      <td>0.165034</td>\n",
       "      <td>0.081906</td>\n",
       "    </tr>\n",
       "    <tr>\n",
       "      <th>11</th>\n",
       "      <td>274</td>\n",
       "      <td>3507.236338</td>\n",
       "      <td>1089</td>\n",
       "      <td>4.131313</td>\n",
       "      <td>5.496786</td>\n",
       "      <td>0.251607</td>\n",
       "      <td>0.078124</td>\n",
       "    </tr>\n",
       "    <tr>\n",
       "      <th>12</th>\n",
       "      <td>3236</td>\n",
       "      <td>38457.074454</td>\n",
       "      <td>15360</td>\n",
       "      <td>3.439844</td>\n",
       "      <td>8.714909</td>\n",
       "      <td>0.210677</td>\n",
       "      <td>0.084146</td>\n",
       "    </tr>\n",
       "    <tr>\n",
       "      <th>13</th>\n",
       "      <td>212</td>\n",
       "      <td>2656.963322</td>\n",
       "      <td>1694</td>\n",
       "      <td>1.896104</td>\n",
       "      <td>8.071429</td>\n",
       "      <td>0.125148</td>\n",
       "      <td>0.079790</td>\n",
       "    </tr>\n",
       "  </tbody>\n",
       "</table>\n",
       "</div>"
      ]
     },
     "metadata": {
      "application/vnd.databricks.v1+output": {
       "addedWidgets": {},
       "arguments": {},
       "data": "<div>\n<style scoped>\n    .dataframe tbody tr th:only-of-type {\n        vertical-align: middle;\n    }\n\n    .dataframe tbody tr th {\n        vertical-align: top;\n    }\n\n    .dataframe thead th {\n        text-align: right;\n    }\n</style>\n<table border=\"1\" class=\"dataframe\">\n  <thead>\n    <tr style=\"text-align: right;\">\n      <th></th>\n      <th>CLAIM_COUNT_PAID</th>\n      <th>EARNED_EXPOSURES</th>\n      <th>POLICYID</th>\n      <th>VEHICLE_COUNT</th>\n      <th>YRSINBUSCT</th>\n      <th>CLAIMS_RATE</th>\n      <th>CLAIMS_EXPOSURES</th>\n    </tr>\n    <tr>\n      <th>CLUSTER_ID</th>\n      <th></th>\n      <th></th>\n      <th></th>\n      <th></th>\n      <th></th>\n      <th></th>\n      <th></th>\n    </tr>\n  </thead>\n  <tbody>\n    <tr>\n      <th>-1</th>\n      <td>2700</td>\n      <td>33837.051035</td>\n      <td>15481</td>\n      <td>2.910342</td>\n      <td>9.164976</td>\n      <td>0.174407</td>\n      <td>0.079794</td>\n    </tr>\n    <tr>\n      <th>0</th>\n      <td>528</td>\n      <td>6155.177521</td>\n      <td>2587</td>\n      <td>3.522227</td>\n      <td>7.957480</td>\n      <td>0.204097</td>\n      <td>0.085781</td>\n    </tr>\n    <tr>\n      <th>1</th>\n      <td>380</td>\n      <td>5417.966116</td>\n      <td>3414</td>\n      <td>1.969537</td>\n      <td>12.487991</td>\n      <td>0.111306</td>\n      <td>0.070137</td>\n    </tr>\n    <tr>\n      <th>2</th>\n      <td>237</td>\n      <td>2534.829679</td>\n      <td>745</td>\n      <td>4.810738</td>\n      <td>6.801342</td>\n      <td>0.318121</td>\n      <td>0.093497</td>\n    </tr>\n    <tr>\n      <th>3</th>\n      <td>677</td>\n      <td>8700.665917</td>\n      <td>2657</td>\n      <td>4.467068</td>\n      <td>8.598043</td>\n      <td>0.254799</td>\n      <td>0.077810</td>\n    </tr>\n    <tr>\n      <th>4</th>\n      <td>156</td>\n      <td>2049.563202</td>\n      <td>757</td>\n      <td>3.495376</td>\n      <td>9.141347</td>\n      <td>0.206077</td>\n      <td>0.076114</td>\n    </tr>\n    <tr>\n      <th>5</th>\n      <td>227</td>\n      <td>3036.269037</td>\n      <td>1126</td>\n      <td>3.692718</td>\n      <td>6.700710</td>\n      <td>0.201599</td>\n      <td>0.074763</td>\n    </tr>\n    <tr>\n      <th>6</th>\n      <td>155</td>\n      <td>1779.957413</td>\n      <td>705</td>\n      <td>3.706383</td>\n      <td>12.503546</td>\n      <td>0.219858</td>\n      <td>0.087081</td>\n    </tr>\n    <tr>\n      <th>7</th>\n      <td>478</td>\n      <td>5039.112107</td>\n      <td>2134</td>\n      <td>3.367385</td>\n      <td>7.860825</td>\n      <td>0.223993</td>\n      <td>0.094858</td>\n    </tr>\n    <tr>\n      <th>8</th>\n      <td>189</td>\n      <td>2636.378037</td>\n      <td>939</td>\n      <td>4.029819</td>\n      <td>8.707135</td>\n      <td>0.201278</td>\n      <td>0.071689</td>\n    </tr>\n    <tr>\n      <th>9</th>\n      <td>386</td>\n      <td>4882.593378</td>\n      <td>1648</td>\n      <td>4.373180</td>\n      <td>8.301578</td>\n      <td>0.234223</td>\n      <td>0.079056</td>\n    </tr>\n    <tr>\n      <th>10</th>\n      <td>1820</td>\n      <td>22220.522644</td>\n      <td>11028</td>\n      <td>2.615705</td>\n      <td>8.215996</td>\n      <td>0.165034</td>\n      <td>0.081906</td>\n    </tr>\n    <tr>\n      <th>11</th>\n      <td>274</td>\n      <td>3507.236338</td>\n      <td>1089</td>\n      <td>4.131313</td>\n      <td>5.496786</td>\n      <td>0.251607</td>\n      <td>0.078124</td>\n    </tr>\n    <tr>\n      <th>12</th>\n      <td>3236</td>\n      <td>38457.074454</td>\n      <td>15360</td>\n      <td>3.439844</td>\n      <td>8.714909</td>\n      <td>0.210677</td>\n      <td>0.084146</td>\n    </tr>\n    <tr>\n      <th>13</th>\n      <td>212</td>\n      <td>2656.963322</td>\n      <td>1694</td>\n      <td>1.896104</td>\n      <td>8.071429</td>\n      <td>0.125148</td>\n      <td>0.079790</td>\n    </tr>\n  </tbody>\n</table>\n</div>",
       "datasetInfos": [],
       "metadata": {},
       "removedWidgets": [],
       "textData": null,
       "type": "htmlSandbox"
      }
     },
     "output_type": "display_data"
    }
   ],
   "source": [
    "tmp['CLUSTER_ID'] = labels_tsne\n",
    "t = tmp.groupby('CLUSTER_ID').agg({'CLAIM_COUNT_PAID': np.sum, 'EARNED_EXPOSURES': np.sum, 'POLICYID': np.size, 'VEHICLE_COUNT': np.mean, 'YRSINBUSCT': np.mean})\n",
    "t['CLAIMS_RATE'] = t['CLAIM_COUNT_PAID']/t['POLICYID']\n",
    "t['CLAIMS_EXPOSURES'] = t['CLAIM_COUNT_PAID']/t['EARNED_EXPOSURES']\n",
    "t"
   ]
  },
  {
   "cell_type": "code",
   "execution_count": 0,
   "metadata": {
    "application/vnd.databricks.v1+cell": {
     "inputWidgets": {},
     "nuid": "360e00a8-caf9-4173-a217-cb80311a188d",
     "showTitle": false,
     "title": ""
    }
   },
   "outputs": [
    {
     "data": {
      "text/html": [
       "<style scoped>\n",
       "  .ansiout {\n",
       "    display: block;\n",
       "    unicode-bidi: embed;\n",
       "    white-space: pre-wrap;\n",
       "    word-wrap: break-word;\n",
       "    word-break: break-all;\n",
       "    font-family: \"Source Code Pro\", \"Menlo\", monospace;;\n",
       "    font-size: 13px;\n",
       "    color: #555;\n",
       "    margin-left: 4px;\n",
       "    line-height: 19px;\n",
       "  }\n",
       "</style>\n",
       "<div class=\"ansiout\">Out[23]: </div>"
      ]
     },
     "metadata": {
      "application/vnd.databricks.v1+output": {
       "addedWidgets": {},
       "arguments": {},
       "data": "<div class=\"ansiout\">Out[23]: </div>",
       "datasetInfos": [],
       "metadata": {},
       "removedWidgets": [],
       "type": "html"
      }
     },
     "output_type": "display_data"
    },
    {
     "data": {
      "text/html": [
       "<div>\n",
       "<style scoped>\n",
       "    .dataframe tbody tr th:only-of-type {\n",
       "        vertical-align: middle;\n",
       "    }\n",
       "\n",
       "    .dataframe tbody tr th {\n",
       "        vertical-align: top;\n",
       "    }\n",
       "\n",
       "    .dataframe thead th {\n",
       "        text-align: right;\n",
       "    }\n",
       "</style>\n",
       "<table border=\"1\" class=\"dataframe\">\n",
       "  <thead>\n",
       "    <tr style=\"text-align: right;\">\n",
       "      <th></th>\n",
       "      <th>CLAIM_COUNT_PAID</th>\n",
       "      <th>EARNED_EXPOSURES</th>\n",
       "      <th>POLICYID</th>\n",
       "      <th>CLAIMS_RATE</th>\n",
       "      <th>CLAIMS_EXPOSURES</th>\n",
       "    </tr>\n",
       "    <tr>\n",
       "      <th>CLUSTER_ID</th>\n",
       "      <th></th>\n",
       "      <th></th>\n",
       "      <th></th>\n",
       "      <th></th>\n",
       "      <th></th>\n",
       "    </tr>\n",
       "  </thead>\n",
       "  <tbody>\n",
       "    <tr>\n",
       "      <th>-1</th>\n",
       "      <td>2700</td>\n",
       "      <td>33837.051035</td>\n",
       "      <td>15481</td>\n",
       "      <td>0.174407</td>\n",
       "      <td>0.079794</td>\n",
       "    </tr>\n",
       "    <tr>\n",
       "      <th>0</th>\n",
       "      <td>528</td>\n",
       "      <td>6155.177521</td>\n",
       "      <td>2587</td>\n",
       "      <td>0.204097</td>\n",
       "      <td>0.085781</td>\n",
       "    </tr>\n",
       "    <tr>\n",
       "      <th>1</th>\n",
       "      <td>380</td>\n",
       "      <td>5417.966116</td>\n",
       "      <td>3414</td>\n",
       "      <td>0.111306</td>\n",
       "      <td>0.070137</td>\n",
       "    </tr>\n",
       "    <tr>\n",
       "      <th>2</th>\n",
       "      <td>237</td>\n",
       "      <td>2534.829679</td>\n",
       "      <td>745</td>\n",
       "      <td>0.318121</td>\n",
       "      <td>0.093497</td>\n",
       "    </tr>\n",
       "    <tr>\n",
       "      <th>3</th>\n",
       "      <td>677</td>\n",
       "      <td>8700.665917</td>\n",
       "      <td>2657</td>\n",
       "      <td>0.254799</td>\n",
       "      <td>0.077810</td>\n",
       "    </tr>\n",
       "    <tr>\n",
       "      <th>4</th>\n",
       "      <td>156</td>\n",
       "      <td>2049.563202</td>\n",
       "      <td>757</td>\n",
       "      <td>0.206077</td>\n",
       "      <td>0.076114</td>\n",
       "    </tr>\n",
       "    <tr>\n",
       "      <th>5</th>\n",
       "      <td>227</td>\n",
       "      <td>3036.269037</td>\n",
       "      <td>1126</td>\n",
       "      <td>0.201599</td>\n",
       "      <td>0.074763</td>\n",
       "    </tr>\n",
       "    <tr>\n",
       "      <th>6</th>\n",
       "      <td>155</td>\n",
       "      <td>1779.957413</td>\n",
       "      <td>705</td>\n",
       "      <td>0.219858</td>\n",
       "      <td>0.087081</td>\n",
       "    </tr>\n",
       "    <tr>\n",
       "      <th>7</th>\n",
       "      <td>478</td>\n",
       "      <td>5039.112107</td>\n",
       "      <td>2134</td>\n",
       "      <td>0.223993</td>\n",
       "      <td>0.094858</td>\n",
       "    </tr>\n",
       "    <tr>\n",
       "      <th>8</th>\n",
       "      <td>189</td>\n",
       "      <td>2636.378037</td>\n",
       "      <td>939</td>\n",
       "      <td>0.201278</td>\n",
       "      <td>0.071689</td>\n",
       "    </tr>\n",
       "    <tr>\n",
       "      <th>9</th>\n",
       "      <td>386</td>\n",
       "      <td>4882.593378</td>\n",
       "      <td>1648</td>\n",
       "      <td>0.234223</td>\n",
       "      <td>0.079056</td>\n",
       "    </tr>\n",
       "    <tr>\n",
       "      <th>10</th>\n",
       "      <td>1820</td>\n",
       "      <td>22220.522644</td>\n",
       "      <td>11028</td>\n",
       "      <td>0.165034</td>\n",
       "      <td>0.081906</td>\n",
       "    </tr>\n",
       "    <tr>\n",
       "      <th>11</th>\n",
       "      <td>274</td>\n",
       "      <td>3507.236338</td>\n",
       "      <td>1089</td>\n",
       "      <td>0.251607</td>\n",
       "      <td>0.078124</td>\n",
       "    </tr>\n",
       "    <tr>\n",
       "      <th>12</th>\n",
       "      <td>3236</td>\n",
       "      <td>38457.074454</td>\n",
       "      <td>15360</td>\n",
       "      <td>0.210677</td>\n",
       "      <td>0.084146</td>\n",
       "    </tr>\n",
       "    <tr>\n",
       "      <th>13</th>\n",
       "      <td>212</td>\n",
       "      <td>2656.963322</td>\n",
       "      <td>1694</td>\n",
       "      <td>0.125148</td>\n",
       "      <td>0.079790</td>\n",
       "    </tr>\n",
       "  </tbody>\n",
       "</table>\n",
       "</div>"
      ]
     },
     "metadata": {
      "application/vnd.databricks.v1+output": {
       "addedWidgets": {},
       "arguments": {},
       "data": "<div>\n<style scoped>\n    .dataframe tbody tr th:only-of-type {\n        vertical-align: middle;\n    }\n\n    .dataframe tbody tr th {\n        vertical-align: top;\n    }\n\n    .dataframe thead th {\n        text-align: right;\n    }\n</style>\n<table border=\"1\" class=\"dataframe\">\n  <thead>\n    <tr style=\"text-align: right;\">\n      <th></th>\n      <th>CLAIM_COUNT_PAID</th>\n      <th>EARNED_EXPOSURES</th>\n      <th>POLICYID</th>\n      <th>CLAIMS_RATE</th>\n      <th>CLAIMS_EXPOSURES</th>\n    </tr>\n    <tr>\n      <th>CLUSTER_ID</th>\n      <th></th>\n      <th></th>\n      <th></th>\n      <th></th>\n      <th></th>\n    </tr>\n  </thead>\n  <tbody>\n    <tr>\n      <th>-1</th>\n      <td>2700</td>\n      <td>33837.051035</td>\n      <td>15481</td>\n      <td>0.174407</td>\n      <td>0.079794</td>\n    </tr>\n    <tr>\n      <th>0</th>\n      <td>528</td>\n      <td>6155.177521</td>\n      <td>2587</td>\n      <td>0.204097</td>\n      <td>0.085781</td>\n    </tr>\n    <tr>\n      <th>1</th>\n      <td>380</td>\n      <td>5417.966116</td>\n      <td>3414</td>\n      <td>0.111306</td>\n      <td>0.070137</td>\n    </tr>\n    <tr>\n      <th>2</th>\n      <td>237</td>\n      <td>2534.829679</td>\n      <td>745</td>\n      <td>0.318121</td>\n      <td>0.093497</td>\n    </tr>\n    <tr>\n      <th>3</th>\n      <td>677</td>\n      <td>8700.665917</td>\n      <td>2657</td>\n      <td>0.254799</td>\n      <td>0.077810</td>\n    </tr>\n    <tr>\n      <th>4</th>\n      <td>156</td>\n      <td>2049.563202</td>\n      <td>757</td>\n      <td>0.206077</td>\n      <td>0.076114</td>\n    </tr>\n    <tr>\n      <th>5</th>\n      <td>227</td>\n      <td>3036.269037</td>\n      <td>1126</td>\n      <td>0.201599</td>\n      <td>0.074763</td>\n    </tr>\n    <tr>\n      <th>6</th>\n      <td>155</td>\n      <td>1779.957413</td>\n      <td>705</td>\n      <td>0.219858</td>\n      <td>0.087081</td>\n    </tr>\n    <tr>\n      <th>7</th>\n      <td>478</td>\n      <td>5039.112107</td>\n      <td>2134</td>\n      <td>0.223993</td>\n      <td>0.094858</td>\n    </tr>\n    <tr>\n      <th>8</th>\n      <td>189</td>\n      <td>2636.378037</td>\n      <td>939</td>\n      <td>0.201278</td>\n      <td>0.071689</td>\n    </tr>\n    <tr>\n      <th>9</th>\n      <td>386</td>\n      <td>4882.593378</td>\n      <td>1648</td>\n      <td>0.234223</td>\n      <td>0.079056</td>\n    </tr>\n    <tr>\n      <th>10</th>\n      <td>1820</td>\n      <td>22220.522644</td>\n      <td>11028</td>\n      <td>0.165034</td>\n      <td>0.081906</td>\n    </tr>\n    <tr>\n      <th>11</th>\n      <td>274</td>\n      <td>3507.236338</td>\n      <td>1089</td>\n      <td>0.251607</td>\n      <td>0.078124</td>\n    </tr>\n    <tr>\n      <th>12</th>\n      <td>3236</td>\n      <td>38457.074454</td>\n      <td>15360</td>\n      <td>0.210677</td>\n      <td>0.084146</td>\n    </tr>\n    <tr>\n      <th>13</th>\n      <td>212</td>\n      <td>2656.963322</td>\n      <td>1694</td>\n      <td>0.125148</td>\n      <td>0.079790</td>\n    </tr>\n  </tbody>\n</table>\n</div>",
       "datasetInfos": [],
       "metadata": {},
       "removedWidgets": [],
       "textData": null,
       "type": "htmlSandbox"
      }
     },
     "output_type": "display_data"
    }
   ],
   "source": [
    "t = tmp.groupby('CLUSTER_ID').agg({'CLAIM_COUNT_PAID': np.sum, 'EARNED_EXPOSURES': np.sum, 'POLICYID': np.size})\n",
    "t['CLAIMS_RATE'] = t['CLAIM_COUNT_PAID']/t['POLICYID']\n",
    "t['CLAIMS_EXPOSURES'] = t['CLAIM_COUNT_PAID']/t['EARNED_EXPOSURES']\n",
    "t"
   ]
  },
  {
   "cell_type": "code",
   "execution_count": 0,
   "metadata": {
    "application/vnd.databricks.v1+cell": {
     "inputWidgets": {},
     "nuid": "70312758-283a-4fd3-9f7d-33def96edf49",
     "showTitle": false,
     "title": ""
    }
   },
   "outputs": [
    {
     "data": {
      "text/html": [
       "<style scoped>\n",
       "  .ansiout {\n",
       "    display: block;\n",
       "    unicode-bidi: embed;\n",
       "    white-space: pre-wrap;\n",
       "    word-wrap: break-word;\n",
       "    word-break: break-all;\n",
       "    font-family: \"Source Code Pro\", \"Menlo\", monospace;;\n",
       "    font-size: 13px;\n",
       "    color: #555;\n",
       "    margin-left: 4px;\n",
       "    line-height: 19px;\n",
       "  }\n",
       "</style>\n",
       "<div class=\"ansiout\">/databricks/python/lib/python3.8/site-packages/umap/spectral.py:260: UserWarning: WARNING: spectral initialisation failed! The eigenvector solver\n",
       "failed. This is likely due to too small an eigengap. Consider\n",
       "adding some noise or jitter to your data.\n",
       "\n",
       "Falling back to random initialisation!\n",
       "  warn(\n",
       "</div>"
      ]
     },
     "metadata": {
      "application/vnd.databricks.v1+output": {
       "addedWidgets": {},
       "arguments": {},
       "data": "<div class=\"ansiout\">/databricks/python/lib/python3.8/site-packages/umap/spectral.py:260: UserWarning: WARNING: spectral initialisation failed! The eigenvector solver\nfailed. This is likely due to too small an eigengap. Consider\nadding some noise or jitter to your data.\n\nFalling back to random initialisation!\n  warn(\n</div>",
       "datasetInfos": [],
       "metadata": {},
       "removedWidgets": [],
       "type": "html"
      }
     },
     "output_type": "display_data"
    }
   ],
   "source": [
    "#UMAP Clustering.\n",
    "\n",
    "clusterable_embedding = umap.UMAP(\n",
    "    n_neighbors=30,\n",
    "    min_dist=0.0,\n",
    "    n_components=2,\n",
    "    random_state=42,\n",
    ").fit_transform(cluster_df)"
   ]
  },
  {
   "cell_type": "code",
   "execution_count": 0,
   "metadata": {
    "application/vnd.databricks.v1+cell": {
     "inputWidgets": {},
     "nuid": "d6f7d53a-8a59-46e7-b85a-dd7506770bc2",
     "showTitle": false,
     "title": ""
    }
   },
   "outputs": [
    {
     "data": {
      "text/html": [
       "<style scoped>\n",
       "  .ansiout {\n",
       "    display: block;\n",
       "    unicode-bidi: embed;\n",
       "    white-space: pre-wrap;\n",
       "    word-wrap: break-word;\n",
       "    word-break: break-all;\n",
       "    font-family: \"Source Code Pro\", \"Menlo\", monospace;;\n",
       "    font-size: 13px;\n",
       "    color: #555;\n",
       "    margin-left: 4px;\n",
       "    line-height: 19px;\n",
       "  }\n",
       "</style>\n",
       "<div class=\"ansiout\">Out[25]: array([10,  9, -1, ..., 10, 10, 10])</div>"
      ]
     },
     "metadata": {
      "application/vnd.databricks.v1+output": {
       "addedWidgets": {},
       "arguments": {},
       "data": "<div class=\"ansiout\">Out[25]: array([10,  9, -1, ..., 10, 10, 10])</div>",
       "datasetInfos": [],
       "metadata": {},
       "removedWidgets": [],
       "type": "html"
      }
     },
     "output_type": "display_data"
    }
   ],
   "source": [
    "cluster_umap = hdbscan.HDBSCAN(min_samples=10,min_cluster_size=625,cluster_selection_epsilon=2.0)\n",
    "#cluster_umap = hdbscan.HDBSCAN(min_samples=10,min_cluster_size=625)\n",
    "cluster_umap.fit_predict(clusterable_embedding)"
   ]
  },
  {
   "cell_type": "code",
   "execution_count": 0,
   "metadata": {
    "application/vnd.databricks.v1+cell": {
     "inputWidgets": {},
     "nuid": "d8103566-9e6c-493a-aaec-74006f4b1fb9",
     "showTitle": false,
     "title": ""
    }
   },
   "outputs": [
    {
     "data": {
      "text/html": [
       "<style scoped>\n",
       "  .ansiout {\n",
       "    display: block;\n",
       "    unicode-bidi: embed;\n",
       "    white-space: pre-wrap;\n",
       "    word-wrap: break-word;\n",
       "    word-break: break-all;\n",
       "    font-family: \"Source Code Pro\", \"Menlo\", monospace;;\n",
       "    font-size: 13px;\n",
       "    color: #555;\n",
       "    margin-left: 4px;\n",
       "    line-height: 19px;\n",
       "  }\n",
       "</style>\n",
       "<div class=\"ansiout\">10\n",
       "61364\n",
       "-1\n",
       "</div>"
      ]
     },
     "metadata": {
      "application/vnd.databricks.v1+output": {
       "addedWidgets": {},
       "arguments": {},
       "data": "<div class=\"ansiout\">10\n61364\n-1\n</div>",
       "datasetInfos": [],
       "metadata": {},
       "removedWidgets": [],
       "type": "html"
      }
     },
     "output_type": "display_data"
    }
   ],
   "source": [
    "print(cluster_umap.labels_.max())\n",
    "print(len(cluster_umap.labels_))\n",
    "print(cluster_umap.labels_.min())\n",
    "labels_umap = cluster_umap.labels_"
   ]
  },
  {
   "cell_type": "code",
   "execution_count": 0,
   "metadata": {
    "application/vnd.databricks.v1+cell": {
     "inputWidgets": {},
     "nuid": "eaa8e281-1201-4da3-abbc-921aba766dd7",
     "showTitle": false,
     "title": ""
    }
   },
   "outputs": [
    {
     "data": {
      "text/html": [
       "<style scoped>\n",
       "  .ansiout {\n",
       "    display: block;\n",
       "    unicode-bidi: embed;\n",
       "    white-space: pre-wrap;\n",
       "    word-wrap: break-word;\n",
       "    word-break: break-all;\n",
       "    font-family: \"Source Code Pro\", \"Menlo\", monospace;;\n",
       "    font-size: 13px;\n",
       "    color: #555;\n",
       "    margin-left: 4px;\n",
       "    line-height: 19px;\n",
       "  }\n",
       "</style>\n",
       "<div class=\"ansiout\">48943\n",
       "12421\n",
       "61364\n",
       "</div>"
      ]
     },
     "metadata": {
      "application/vnd.databricks.v1+output": {
       "addedWidgets": {},
       "arguments": {},
       "data": "<div class=\"ansiout\">48943\n12421\n61364\n</div>",
       "datasetInfos": [],
       "metadata": {},
       "removedWidgets": [],
       "type": "html"
      }
     },
     "output_type": "display_data"
    },
    {
     "data": {
      "image/png": "[encoded data removed]"
     },
     "metadata": {
      "application/vnd.databricks.v1+output": {
       "addedWidgets": {},
       "arguments": {},
       "data": "data:image/png;base64,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",
       "datasetInfos": [],
       "metadata": {
        "imageDimensions": {
         "height": 575,
         "width": 879
        }
       },
       "removedWidgets": [],
       "type": "image"
      },
      "image/png": {
       "height": 575,
       "width": 879
      }
     },
     "output_type": "display_data"
    }
   ],
   "source": [
    "clustered_umap = (labels_umap >= 0)\n",
    "print(len(clusterable_embedding[clustered_umap]))\n",
    "print(len(clusterable_embedding[~clustered_umap]))\n",
    "print(len(clustered_umap))\n",
    "plt.figure(figsize=(15,10))\n",
    "plt.scatter(clusterable_embedding[~clustered_umap, 0],\n",
    "            clusterable_embedding[~clustered_umap, 1],\n",
    "            color=(0.5, 0.5, 0.5),\n",
    "            s=0.1,\n",
    "            alpha=0.5)\n",
    "plt.scatter(clusterable_embedding[clustered_umap, 0],\n",
    "            clusterable_embedding[clustered_umap, 1],\n",
    "            c=labels_umap[clustered_umap],\n",
    "            s=0.1,\n",
    "            #cmap='Spectral'\n",
    "           );"
   ]
  },
  {
   "cell_type": "code",
   "execution_count": 0,
   "metadata": {
    "application/vnd.databricks.v1+cell": {
     "inputWidgets": {},
     "nuid": "3743eb22-18b6-4d85-8d5f-46a02a225d06",
     "showTitle": false,
     "title": ""
    }
   },
   "outputs": [
    {
     "data": {
      "text/html": [
       "<style scoped>\n",
       "  .ansiout {\n",
       "    display: block;\n",
       "    unicode-bidi: embed;\n",
       "    white-space: pre-wrap;\n",
       "    word-wrap: break-word;\n",
       "    word-break: break-all;\n",
       "    font-family: \"Source Code Pro\", \"Menlo\", monospace;;\n",
       "    font-size: 13px;\n",
       "    color: #555;\n",
       "    margin-left: 4px;\n",
       "    line-height: 19px;\n",
       "  }\n",
       "</style>\n",
       "<div class=\"ansiout\">Out[28]: </div>"
      ]
     },
     "metadata": {
      "application/vnd.databricks.v1+output": {
       "addedWidgets": {},
       "arguments": {},
       "data": "<div class=\"ansiout\">Out[28]: </div>",
       "datasetInfos": [],
       "metadata": {},
       "removedWidgets": [],
       "type": "html"
      }
     },
     "output_type": "display_data"
    },
    {
     "data": {
      "text/html": [
       "<div>\n",
       "<style scoped>\n",
       "    .dataframe tbody tr th:only-of-type {\n",
       "        vertical-align: middle;\n",
       "    }\n",
       "\n",
       "    .dataframe tbody tr th {\n",
       "        vertical-align: top;\n",
       "    }\n",
       "\n",
       "    .dataframe thead th {\n",
       "        text-align: right;\n",
       "    }\n",
       "</style>\n",
       "<table border=\"1\" class=\"dataframe\">\n",
       "  <thead>\n",
       "    <tr style=\"text-align: right;\">\n",
       "      <th></th>\n",
       "      <th>CLAIM_COUNT_PAID</th>\n",
       "      <th>EARNED_EXPOSURES</th>\n",
       "      <th>POLICYID</th>\n",
       "      <th>VEHICLE_COUNT</th>\n",
       "      <th>YRSINBUSCT</th>\n",
       "      <th>CLAIMS_RATE</th>\n",
       "      <th>CLAIMS_EXPOSURES</th>\n",
       "    </tr>\n",
       "    <tr>\n",
       "      <th>CLUSTER_ID</th>\n",
       "      <th></th>\n",
       "      <th></th>\n",
       "      <th></th>\n",
       "      <th></th>\n",
       "      <th></th>\n",
       "      <th></th>\n",
       "      <th></th>\n",
       "    </tr>\n",
       "  </thead>\n",
       "  <tbody>\n",
       "    <tr>\n",
       "      <th>-1</th>\n",
       "      <td>1633</td>\n",
       "      <td>19496.375241</td>\n",
       "      <td>12421</td>\n",
       "      <td>1.961356</td>\n",
       "      <td>6.574350</td>\n",
       "      <td>0.131471</td>\n",
       "      <td>0.083759</td>\n",
       "    </tr>\n",
       "    <tr>\n",
       "      <th>0</th>\n",
       "      <td>73</td>\n",
       "      <td>880.645990</td>\n",
       "      <td>741</td>\n",
       "      <td>1.248313</td>\n",
       "      <td>6.241565</td>\n",
       "      <td>0.098516</td>\n",
       "      <td>0.082894</td>\n",
       "    </tr>\n",
       "    <tr>\n",
       "      <th>1</th>\n",
       "      <td>84</td>\n",
       "      <td>874.844303</td>\n",
       "      <td>772</td>\n",
       "      <td>1.314767</td>\n",
       "      <td>9.082902</td>\n",
       "      <td>0.108808</td>\n",
       "      <td>0.096017</td>\n",
       "    </tr>\n",
       "    <tr>\n",
       "      <th>2</th>\n",
       "      <td>93</td>\n",
       "      <td>1080.054819</td>\n",
       "      <td>912</td>\n",
       "      <td>1.448465</td>\n",
       "      <td>3.978070</td>\n",
       "      <td>0.101974</td>\n",
       "      <td>0.086107</td>\n",
       "    </tr>\n",
       "    <tr>\n",
       "      <th>3</th>\n",
       "      <td>319</td>\n",
       "      <td>3789.312318</td>\n",
       "      <td>2508</td>\n",
       "      <td>1.975678</td>\n",
       "      <td>7.673046</td>\n",
       "      <td>0.127193</td>\n",
       "      <td>0.084184</td>\n",
       "    </tr>\n",
       "    <tr>\n",
       "      <th>4</th>\n",
       "      <td>125</td>\n",
       "      <td>1198.425363</td>\n",
       "      <td>1095</td>\n",
       "      <td>1.182648</td>\n",
       "      <td>4.730594</td>\n",
       "      <td>0.114155</td>\n",
       "      <td>0.104304</td>\n",
       "    </tr>\n",
       "    <tr>\n",
       "      <th>5</th>\n",
       "      <td>98</td>\n",
       "      <td>1013.469260</td>\n",
       "      <td>670</td>\n",
       "      <td>1.841791</td>\n",
       "      <td>3.685075</td>\n",
       "      <td>0.146269</td>\n",
       "      <td>0.096698</td>\n",
       "    </tr>\n",
       "    <tr>\n",
       "      <th>6</th>\n",
       "      <td>121</td>\n",
       "      <td>1576.145566</td>\n",
       "      <td>1128</td>\n",
       "      <td>1.696809</td>\n",
       "      <td>9.327128</td>\n",
       "      <td>0.107270</td>\n",
       "      <td>0.076770</td>\n",
       "    </tr>\n",
       "    <tr>\n",
       "      <th>7</th>\n",
       "      <td>179</td>\n",
       "      <td>2711.857964</td>\n",
       "      <td>1074</td>\n",
       "      <td>3.547486</td>\n",
       "      <td>4.996276</td>\n",
       "      <td>0.166667</td>\n",
       "      <td>0.066006</td>\n",
       "    </tr>\n",
       "    <tr>\n",
       "      <th>8</th>\n",
       "      <td>105</td>\n",
       "      <td>1176.152596</td>\n",
       "      <td>682</td>\n",
       "      <td>2.337243</td>\n",
       "      <td>5.620235</td>\n",
       "      <td>0.153959</td>\n",
       "      <td>0.089274</td>\n",
       "    </tr>\n",
       "    <tr>\n",
       "      <th>9</th>\n",
       "      <td>207</td>\n",
       "      <td>2799.544198</td>\n",
       "      <td>1553</td>\n",
       "      <td>2.347714</td>\n",
       "      <td>9.274308</td>\n",
       "      <td>0.133290</td>\n",
       "      <td>0.073941</td>\n",
       "    </tr>\n",
       "    <tr>\n",
       "      <th>10</th>\n",
       "      <td>8618</td>\n",
       "      <td>106314.532587</td>\n",
       "      <td>37808</td>\n",
       "      <td>3.894943</td>\n",
       "      <td>10.080195</td>\n",
       "      <td>0.227941</td>\n",
       "      <td>0.081061</td>\n",
       "    </tr>\n",
       "  </tbody>\n",
       "</table>\n",
       "</div>"
      ]
     },
     "metadata": {
      "application/vnd.databricks.v1+output": {
       "addedWidgets": {},
       "arguments": {},
       "data": "<div>\n<style scoped>\n    .dataframe tbody tr th:only-of-type {\n        vertical-align: middle;\n    }\n\n    .dataframe tbody tr th {\n        vertical-align: top;\n    }\n\n    .dataframe thead th {\n        text-align: right;\n    }\n</style>\n<table border=\"1\" class=\"dataframe\">\n  <thead>\n    <tr style=\"text-align: right;\">\n      <th></th>\n      <th>CLAIM_COUNT_PAID</th>\n      <th>EARNED_EXPOSURES</th>\n      <th>POLICYID</th>\n      <th>VEHICLE_COUNT</th>\n      <th>YRSINBUSCT</th>\n      <th>CLAIMS_RATE</th>\n      <th>CLAIMS_EXPOSURES</th>\n    </tr>\n    <tr>\n      <th>CLUSTER_ID</th>\n      <th></th>\n      <th></th>\n      <th></th>\n      <th></th>\n      <th></th>\n      <th></th>\n      <th></th>\n    </tr>\n  </thead>\n  <tbody>\n    <tr>\n      <th>-1</th>\n      <td>1633</td>\n      <td>19496.375241</td>\n      <td>12421</td>\n      <td>1.961356</td>\n      <td>6.574350</td>\n      <td>0.131471</td>\n      <td>0.083759</td>\n    </tr>\n    <tr>\n      <th>0</th>\n      <td>73</td>\n      <td>880.645990</td>\n      <td>741</td>\n      <td>1.248313</td>\n      <td>6.241565</td>\n      <td>0.098516</td>\n      <td>0.082894</td>\n    </tr>\n    <tr>\n      <th>1</th>\n      <td>84</td>\n      <td>874.844303</td>\n      <td>772</td>\n      <td>1.314767</td>\n      <td>9.082902</td>\n      <td>0.108808</td>\n      <td>0.096017</td>\n    </tr>\n    <tr>\n      <th>2</th>\n      <td>93</td>\n      <td>1080.054819</td>\n      <td>912</td>\n      <td>1.448465</td>\n      <td>3.978070</td>\n      <td>0.101974</td>\n      <td>0.086107</td>\n    </tr>\n    <tr>\n      <th>3</th>\n      <td>319</td>\n      <td>3789.312318</td>\n      <td>2508</td>\n      <td>1.975678</td>\n      <td>7.673046</td>\n      <td>0.127193</td>\n      <td>0.084184</td>\n    </tr>\n    <tr>\n      <th>4</th>\n      <td>125</td>\n      <td>1198.425363</td>\n      <td>1095</td>\n      <td>1.182648</td>\n      <td>4.730594</td>\n      <td>0.114155</td>\n      <td>0.104304</td>\n    </tr>\n    <tr>\n      <th>5</th>\n      <td>98</td>\n      <td>1013.469260</td>\n      <td>670</td>\n      <td>1.841791</td>\n      <td>3.685075</td>\n      <td>0.146269</td>\n      <td>0.096698</td>\n    </tr>\n    <tr>\n      <th>6</th>\n      <td>121</td>\n      <td>1576.145566</td>\n      <td>1128</td>\n      <td>1.696809</td>\n      <td>9.327128</td>\n      <td>0.107270</td>\n      <td>0.076770</td>\n    </tr>\n    <tr>\n      <th>7</th>\n      <td>179</td>\n      <td>2711.857964</td>\n      <td>1074</td>\n      <td>3.547486</td>\n      <td>4.996276</td>\n      <td>0.166667</td>\n      <td>0.066006</td>\n    </tr>\n    <tr>\n      <th>8</th>\n      <td>105</td>\n      <td>1176.152596</td>\n      <td>682</td>\n      <td>2.337243</td>\n      <td>5.620235</td>\n      <td>0.153959</td>\n      <td>0.089274</td>\n    </tr>\n    <tr>\n      <th>9</th>\n      <td>207</td>\n      <td>2799.544198</td>\n      <td>1553</td>\n      <td>2.347714</td>\n      <td>9.274308</td>\n      <td>0.133290</td>\n      <td>0.073941</td>\n    </tr>\n    <tr>\n      <th>10</th>\n      <td>8618</td>\n      <td>106314.532587</td>\n      <td>37808</td>\n      <td>3.894943</td>\n      <td>10.080195</td>\n      <td>0.227941</td>\n      <td>0.081061</td>\n    </tr>\n  </tbody>\n</table>\n</div>",
       "datasetInfos": [],
       "metadata": {},
       "removedWidgets": [],
       "textData": null,
       "type": "htmlSandbox"
      }
     },
     "output_type": "display_data"
    }
   ],
   "source": [
    "tmp['CLUSTER_ID'] = labels_umap\n",
    "t = tmp.groupby('CLUSTER_ID').agg({'CLAIM_COUNT_PAID': np.sum, 'EARNED_EXPOSURES': np.sum, 'POLICYID': np.size, 'VEHICLE_COUNT': np.mean, 'YRSINBUSCT': np.mean})\n",
    "t['CLAIMS_RATE'] = t['CLAIM_COUNT_PAID']/t['POLICYID']\n",
    "t['CLAIMS_EXPOSURES'] = t['CLAIM_COUNT_PAID']/t['EARNED_EXPOSURES']\n",
    "t"
   ]
  },
  {
   "cell_type": "code",
   "execution_count": 0,
   "metadata": {
    "application/vnd.databricks.v1+cell": {
     "inputWidgets": {},
     "nuid": "0c87f4d7-76da-4c3a-817c-420b69c92307",
     "showTitle": false,
     "title": ""
    }
   },
   "outputs": [
    {
     "data": {
      "text/html": [
       "<style scoped>\n",
       "  .ansiout {\n",
       "    display: block;\n",
       "    unicode-bidi: embed;\n",
       "    white-space: pre-wrap;\n",
       "    word-wrap: break-word;\n",
       "    word-break: break-all;\n",
       "    font-family: \"Source Code Pro\", \"Menlo\", monospace;;\n",
       "    font-size: 13px;\n",
       "    color: #555;\n",
       "    margin-left: 4px;\n",
       "    line-height: 19px;\n",
       "  }\n",
       "</style>\n",
       "<div class=\"ansiout\">Out[29]: </div>"
      ]
     },
     "metadata": {
      "application/vnd.databricks.v1+output": {
       "addedWidgets": {},
       "arguments": {},
       "data": "<div class=\"ansiout\">Out[29]: </div>",
       "datasetInfos": [],
       "metadata": {},
       "removedWidgets": [],
       "type": "html"
      }
     },
     "output_type": "display_data"
    },
    {
     "data": {
      "text/html": [
       "<div>\n",
       "<style scoped>\n",
       "    .dataframe tbody tr th:only-of-type {\n",
       "        vertical-align: middle;\n",
       "    }\n",
       "\n",
       "    .dataframe tbody tr th {\n",
       "        vertical-align: top;\n",
       "    }\n",
       "\n",
       "    .dataframe thead th {\n",
       "        text-align: right;\n",
       "    }\n",
       "</style>\n",
       "<table border=\"1\" class=\"dataframe\">\n",
       "  <thead>\n",
       "    <tr style=\"text-align: right;\">\n",
       "      <th></th>\n",
       "      <th>CLAIM_COUNT_PAID</th>\n",
       "      <th>EARNED_EXPOSURES</th>\n",
       "      <th>POLICYID</th>\n",
       "      <th>CLAIMS_RATE</th>\n",
       "      <th>CLAIMS_EXPOSURES</th>\n",
       "    </tr>\n",
       "    <tr>\n",
       "      <th>CLUSTER_ID</th>\n",
       "      <th></th>\n",
       "      <th></th>\n",
       "      <th></th>\n",
       "      <th></th>\n",
       "      <th></th>\n",
       "    </tr>\n",
       "  </thead>\n",
       "  <tbody>\n",
       "    <tr>\n",
       "      <th>-1</th>\n",
       "      <td>1633</td>\n",
       "      <td>19496.375241</td>\n",
       "      <td>12421</td>\n",
       "      <td>0.131471</td>\n",
       "      <td>0.083759</td>\n",
       "    </tr>\n",
       "    <tr>\n",
       "      <th>0</th>\n",
       "      <td>73</td>\n",
       "      <td>880.645990</td>\n",
       "      <td>741</td>\n",
       "      <td>0.098516</td>\n",
       "      <td>0.082894</td>\n",
       "    </tr>\n",
       "    <tr>\n",
       "      <th>1</th>\n",
       "      <td>84</td>\n",
       "      <td>874.844303</td>\n",
       "      <td>772</td>\n",
       "      <td>0.108808</td>\n",
       "      <td>0.096017</td>\n",
       "    </tr>\n",
       "    <tr>\n",
       "      <th>2</th>\n",
       "      <td>93</td>\n",
       "      <td>1080.054819</td>\n",
       "      <td>912</td>\n",
       "      <td>0.101974</td>\n",
       "      <td>0.086107</td>\n",
       "    </tr>\n",
       "    <tr>\n",
       "      <th>3</th>\n",
       "      <td>319</td>\n",
       "      <td>3789.312318</td>\n",
       "      <td>2508</td>\n",
       "      <td>0.127193</td>\n",
       "      <td>0.084184</td>\n",
       "    </tr>\n",
       "    <tr>\n",
       "      <th>4</th>\n",
       "      <td>125</td>\n",
       "      <td>1198.425363</td>\n",
       "      <td>1095</td>\n",
       "      <td>0.114155</td>\n",
       "      <td>0.104304</td>\n",
       "    </tr>\n",
       "    <tr>\n",
       "      <th>5</th>\n",
       "      <td>98</td>\n",
       "      <td>1013.469260</td>\n",
       "      <td>670</td>\n",
       "      <td>0.146269</td>\n",
       "      <td>0.096698</td>\n",
       "    </tr>\n",
       "    <tr>\n",
       "      <th>6</th>\n",
       "      <td>121</td>\n",
       "      <td>1576.145566</td>\n",
       "      <td>1128</td>\n",
       "      <td>0.107270</td>\n",
       "      <td>0.076770</td>\n",
       "    </tr>\n",
       "    <tr>\n",
       "      <th>7</th>\n",
       "      <td>179</td>\n",
       "      <td>2711.857964</td>\n",
       "      <td>1074</td>\n",
       "      <td>0.166667</td>\n",
       "      <td>0.066006</td>\n",
       "    </tr>\n",
       "    <tr>\n",
       "      <th>8</th>\n",
       "      <td>105</td>\n",
       "      <td>1176.152596</td>\n",
       "      <td>682</td>\n",
       "      <td>0.153959</td>\n",
       "      <td>0.089274</td>\n",
       "    </tr>\n",
       "    <tr>\n",
       "      <th>9</th>\n",
       "      <td>207</td>\n",
       "      <td>2799.544198</td>\n",
       "      <td>1553</td>\n",
       "      <td>0.133290</td>\n",
       "      <td>0.073941</td>\n",
       "    </tr>\n",
       "    <tr>\n",
       "      <th>10</th>\n",
       "      <td>8618</td>\n",
       "      <td>106314.532587</td>\n",
       "      <td>37808</td>\n",
       "      <td>0.227941</td>\n",
       "      <td>0.081061</td>\n",
       "    </tr>\n",
       "  </tbody>\n",
       "</table>\n",
       "</div>"
      ]
     },
     "metadata": {
      "application/vnd.databricks.v1+output": {
       "addedWidgets": {},
       "arguments": {},
       "data": "<div>\n<style scoped>\n    .dataframe tbody tr th:only-of-type {\n        vertical-align: middle;\n    }\n\n    .dataframe tbody tr th {\n        vertical-align: top;\n    }\n\n    .dataframe thead th {\n        text-align: right;\n    }\n</style>\n<table border=\"1\" class=\"dataframe\">\n  <thead>\n    <tr style=\"text-align: right;\">\n      <th></th>\n      <th>CLAIM_COUNT_PAID</th>\n      <th>EARNED_EXPOSURES</th>\n      <th>POLICYID</th>\n      <th>CLAIMS_RATE</th>\n      <th>CLAIMS_EXPOSURES</th>\n    </tr>\n    <tr>\n      <th>CLUSTER_ID</th>\n      <th></th>\n      <th></th>\n      <th></th>\n      <th></th>\n      <th></th>\n    </tr>\n  </thead>\n  <tbody>\n    <tr>\n      <th>-1</th>\n      <td>1633</td>\n      <td>19496.375241</td>\n      <td>12421</td>\n      <td>0.131471</td>\n      <td>0.083759</td>\n    </tr>\n    <tr>\n      <th>0</th>\n      <td>73</td>\n      <td>880.645990</td>\n      <td>741</td>\n      <td>0.098516</td>\n      <td>0.082894</td>\n    </tr>\n    <tr>\n      <th>1</th>\n      <td>84</td>\n      <td>874.844303</td>\n      <td>772</td>\n      <td>0.108808</td>\n      <td>0.096017</td>\n    </tr>\n    <tr>\n      <th>2</th>\n      <td>93</td>\n      <td>1080.054819</td>\n      <td>912</td>\n      <td>0.101974</td>\n      <td>0.086107</td>\n    </tr>\n    <tr>\n      <th>3</th>\n      <td>319</td>\n      <td>3789.312318</td>\n      <td>2508</td>\n      <td>0.127193</td>\n      <td>0.084184</td>\n    </tr>\n    <tr>\n      <th>4</th>\n      <td>125</td>\n      <td>1198.425363</td>\n      <td>1095</td>\n      <td>0.114155</td>\n      <td>0.104304</td>\n    </tr>\n    <tr>\n      <th>5</th>\n      <td>98</td>\n      <td>1013.469260</td>\n      <td>670</td>\n      <td>0.146269</td>\n      <td>0.096698</td>\n    </tr>\n    <tr>\n      <th>6</th>\n      <td>121</td>\n      <td>1576.145566</td>\n      <td>1128</td>\n      <td>0.107270</td>\n      <td>0.076770</td>\n    </tr>\n    <tr>\n      <th>7</th>\n      <td>179</td>\n      <td>2711.857964</td>\n      <td>1074</td>\n      <td>0.166667</td>\n      <td>0.066006</td>\n    </tr>\n    <tr>\n      <th>8</th>\n      <td>105</td>\n      <td>1176.152596</td>\n      <td>682</td>\n      <td>0.153959</td>\n      <td>0.089274</td>\n    </tr>\n    <tr>\n      <th>9</th>\n      <td>207</td>\n      <td>2799.544198</td>\n      <td>1553</td>\n      <td>0.133290</td>\n      <td>0.073941</td>\n    </tr>\n    <tr>\n      <th>10</th>\n      <td>8618</td>\n      <td>106314.532587</td>\n      <td>37808</td>\n      <td>0.227941</td>\n      <td>0.081061</td>\n    </tr>\n  </tbody>\n</table>\n</div>",
       "datasetInfos": [],
       "metadata": {},
       "removedWidgets": [],
       "textData": null,
       "type": "htmlSandbox"
      }
     },
     "output_type": "display_data"
    }
   ],
   "source": [
    "t = tmp.groupby('CLUSTER_ID').agg({'CLAIM_COUNT_PAID': np.sum, 'EARNED_EXPOSURES': np.sum, 'POLICYID': np.size})\n",
    "t['CLAIMS_RATE'] = t['CLAIM_COUNT_PAID']/t['POLICYID']\n",
    "t['CLAIMS_EXPOSURES'] = t['CLAIM_COUNT_PAID']/t['EARNED_EXPOSURES']\n",
    "t"
   ]
  }
 ],
 "metadata": {
  "application/vnd.databricks.v1+notebook": {
   "dashboards": [],
   "language": "python",
   "notebookMetadata": {
    "pythonIndentUnit": 2
   },
   "notebookName": "Clustering_Databricks",
   "notebookOrigID": 4135060219617580,
   "widgets": {}
  },
  "kernelspec": {
   "display_name": "Python 3",
   "language": "python",
   "name": "python3"
  },
  "language_info": {
   "codemirror_mode": {
    "name": "ipython",
    "version": 3
   },
   "file_extension": ".py",
   "mimetype": "text/x-python",
   "name": "python",
   "nbconvert_exporter": "python",
   "pygments_lexer": "ipython3",
   "version": "3.7.0"
  }
 },
 "nbformat": 4,
 "nbformat_minor": 1
}
